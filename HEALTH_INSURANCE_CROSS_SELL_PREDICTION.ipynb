{
  "cells": [
    {
      "cell_type": "markdown",
      "metadata": {
        "id": "view-in-github",
        "colab_type": "text"
      },
      "source": [
        "<a href=\"https://colab.research.google.com/github/sapanapawar/Health-Insurance-Cross-Sell-Prediction/blob/main/HEALTH_INSURANCE_CROSS_SELL_PREDICTION.ipynb\" target=\"_parent\"><img src=\"https://colab.research.google.com/assets/colab-badge.svg\" alt=\"Open In Colab\"/></a>"
      ]
    },
    {
      "cell_type": "markdown",
      "metadata": {
        "id": "LGcl5Bv9ed6u"
      },
      "source": [
        "# **Problem Statement**"
      ]
    },
    {
      "cell_type": "markdown",
      "metadata": {
        "id": "jJAmGx75jJk1"
      },
      "source": [
        "Our client is an Insurance company that has provided Health Insurance to its customers now they need your help in building a model to predict whether the policyholders (customers) from past year will also be interested in Vehicle Insurance provided by the company.\n",
        "\n",
        "An insurance policy is an arrangement by which a company undertakes to provide a guarantee of compensation for specified loss, damage, illness, or death in return for the payment of a specified premium. A premium is a sum of money that the customer needs to pay regularly to an insurance company for this guarantee.\n",
        "\n",
        "For example, you may pay a premium of Rs. 5000 each year for a health insurance cover of Rs. 200,000/- so that if, God forbid, you fall ill and need to be hospitalised in that year, the insurance provider company will bear the cost of hospitalisation etc. for upto Rs. 200,000. Now if you are wondering how can company bear such high hospitalisation cost when it charges a premium of only Rs. 5000/-, that is where the concept of probabilities comes in picture. For example, like you, there may be 100 customers who would be paying a premium of Rs. 5000 every year, but only a few of them (say 2-3) would get hospitalised that year and not everyone. This way everyone shares the risk of everyone else.\n",
        "\n",
        "Just like medical insurance, there is vehicle insurance where every year customer needs to pay a premium of certain amount to insurance provider company so that in case of unfortunate accident by the vehicle, the insurance provider company will provide a compensation (called ‘sum assured’) to the customer.\n",
        "\n",
        "Building a model to predict whether a customer would be interested in Vehicle Insurance is extremely helpful for the company because it can then accordingly plan its communication strategy to reach out to those customers and optimise its business model and revenue.\n",
        "\n",
        "Now, in order to predict, whether the customer would be interested in Vehicle insurance, you have information about demographics (gender, age, region code type), Vehicles (Vehicle Age, Damage), Policy (Premium, sourcing channel) etc."
      ]
    },
    {
      "cell_type": "markdown",
      "metadata": {
        "id": "AzGDqdC4fZ-b"
      },
      "source": [
        "# **Attribute Information**"
      ]
    },
    {
      "cell_type": "markdown",
      "metadata": {
        "id": "oEJxl68MjYbs"
      },
      "source": [
        "1. id :\tUnique ID for the customer\n",
        "\n",
        "2. Gender\t: Gender of the customer\n",
        "\n",
        "3. Age :\tAge of the customer\n",
        "\n",
        "4. Driving_License\t0 : Customer does not have DL, 1 : Customer already has DL\n",
        "\n",
        "5. Region_Code :\tUnique code for the region of the customer\n",
        "\n",
        "6. Previously_Insured\t: 1 : Customer already has Vehicle Insurance, 0 : Customer doesn't have Vehicle Insurance\n",
        "\n",
        "7. Vehicle_Age :\tAge of the Vehicle\n",
        "\n",
        "8. Vehicle_Damage\t :1 : Customer got his/her vehicle damaged in the past. 0 : Customer didn't get his/her vehicle damaged in the past.\n",
        "\n",
        "9. Annual_Premium\t: The amount customer needs to pay as premium in the year\n",
        "\n",
        "10. PolicySalesChannel :\tAnonymized Code for the channel of outreaching to the customer ie. Different Agents, Over Mail, Over Phone, In Person, etc.\n",
        "\n",
        "11. Vintage :\tNumber of Days, Customer has been associated with the company\n",
        "\n",
        "12. Response :\t1 : Customer is interested, 0 : Customer is not interested"
      ]
    },
    {
      "cell_type": "markdown",
      "metadata": {
        "id": "aZlL4Dkacpeb"
      },
      "source": [
        "#Loading the Required Libraries and Modules\n"
      ]
    },
    {
      "cell_type": "code",
      "execution_count": 1,
      "metadata": {
        "id": "TJZS09LLdCoc"
      },
      "outputs": [],
      "source": [
        "# Importing the libraries\n",
        "import numpy as np\n",
        "import pandas as pd\n",
        "from numpy import math\n",
        "\n",
        "import matplotlib.pyplot as plt\n",
        "%matplotlib inline\n",
        "\n",
        "#Importing Modules\n",
        "import seaborn as sns\n",
        "from sklearn.metrics import accuracy_score, confusion_matrix, precision_score, roc_auc_score, f1_score, recall_score, roc_curve, classification_report, auc\n",
        "from sklearn.model_selection import train_test_split\n",
        "from sklearn.linear_model import LogisticRegression\n",
        "from sklearn.ensemble import RandomForestClassifier\n",
        "from sklearn.model_selection import GridSearchCV\n",
        "from sklearn.model_selection import RandomizedSearchCV\n",
        "from xgboost import XGBClassifier\n",
        "from sklearn.svm import SVC\n",
        "from sklearn.neighbors import KNeighborsClassifier\n",
        "from sklearn.naive_bayes import GaussianNB\n",
        "\n",
        "import warnings\n",
        "warnings.filterwarnings('ignore')"
      ]
    },
    {
      "cell_type": "markdown",
      "metadata": {
        "id": "cXGDyUH2dHJH"
      },
      "source": [
        "#Mount drive & load the dataset"
      ]
    },
    {
      "cell_type": "code",
      "execution_count": 2,
      "metadata": {
        "colab": {
          "base_uri": "https://localhost:8080/"
        },
        "id": "CwIG6YnPdGW1",
        "outputId": "d8b4369f-eb12-4bfe-b886-685908457394"
      },
      "outputs": [
        {
          "output_type": "stream",
          "name": "stdout",
          "text": [
            "Mounted at /content/drive\n"
          ]
        }
      ],
      "source": [
        "#Mounting drive\n",
        "from google.colab import drive\n",
        "drive.mount('/content/drive')"
      ]
    },
    {
      "cell_type": "code",
      "execution_count": 3,
      "metadata": {
        "id": "Rf4lUSLedPBo"
      },
      "outputs": [],
      "source": [
        "#Working directory path\n",
        "file_path = '/content/drive/MyDrive/pd csv file/TRAIN-HEALTH INSURANCE CROSS SELL PREDICTION.csv'"
      ]
    },
    {
      "cell_type": "code",
      "execution_count": 4,
      "metadata": {
        "id": "yBTajJnUdO1D"
      },
      "outputs": [],
      "source": [
        "#Reading the dataset\n",
        "df = pd.read_csv(file_path)"
      ]
    },
    {
      "cell_type": "markdown",
      "metadata": {
        "id": "JvtrSJ3jd-PT"
      },
      "source": [
        "#Data Exploration"
      ]
    },
    {
      "cell_type": "code",
      "execution_count": 5,
      "metadata": {
        "colab": {
          "base_uri": "https://localhost:8080/",
          "height": 423
        },
        "id": "4OAuWp3td23M",
        "outputId": "ad111c64-518e-435d-bab0-826986446647"
      },
      "outputs": [
        {
          "output_type": "execute_result",
          "data": {
            "text/html": [
              "\n",
              "  <div id=\"df-511d7913-53b3-4c74-9ed0-a097222ae526\">\n",
              "    <div class=\"colab-df-container\">\n",
              "      <div>\n",
              "<style scoped>\n",
              "    .dataframe tbody tr th:only-of-type {\n",
              "        vertical-align: middle;\n",
              "    }\n",
              "\n",
              "    .dataframe tbody tr th {\n",
              "        vertical-align: top;\n",
              "    }\n",
              "\n",
              "    .dataframe thead th {\n",
              "        text-align: right;\n",
              "    }\n",
              "</style>\n",
              "<table border=\"1\" class=\"dataframe\">\n",
              "  <thead>\n",
              "    <tr style=\"text-align: right;\">\n",
              "      <th></th>\n",
              "      <th>id</th>\n",
              "      <th>Gender</th>\n",
              "      <th>Age</th>\n",
              "      <th>Driving_License</th>\n",
              "      <th>Region_Code</th>\n",
              "      <th>Previously_Insured</th>\n",
              "      <th>Vehicle_Age</th>\n",
              "      <th>Vehicle_Damage</th>\n",
              "      <th>Annual_Premium</th>\n",
              "      <th>Policy_Sales_Channel</th>\n",
              "      <th>Vintage</th>\n",
              "      <th>Response</th>\n",
              "    </tr>\n",
              "  </thead>\n",
              "  <tbody>\n",
              "    <tr>\n",
              "      <th>0</th>\n",
              "      <td>1</td>\n",
              "      <td>Male</td>\n",
              "      <td>44</td>\n",
              "      <td>1</td>\n",
              "      <td>28.0</td>\n",
              "      <td>0</td>\n",
              "      <td>&gt; 2 Years</td>\n",
              "      <td>Yes</td>\n",
              "      <td>40454.0</td>\n",
              "      <td>26.0</td>\n",
              "      <td>217</td>\n",
              "      <td>1</td>\n",
              "    </tr>\n",
              "    <tr>\n",
              "      <th>1</th>\n",
              "      <td>2</td>\n",
              "      <td>Male</td>\n",
              "      <td>76</td>\n",
              "      <td>1</td>\n",
              "      <td>3.0</td>\n",
              "      <td>0</td>\n",
              "      <td>1-2 Year</td>\n",
              "      <td>No</td>\n",
              "      <td>33536.0</td>\n",
              "      <td>26.0</td>\n",
              "      <td>183</td>\n",
              "      <td>0</td>\n",
              "    </tr>\n",
              "    <tr>\n",
              "      <th>2</th>\n",
              "      <td>3</td>\n",
              "      <td>Male</td>\n",
              "      <td>47</td>\n",
              "      <td>1</td>\n",
              "      <td>28.0</td>\n",
              "      <td>0</td>\n",
              "      <td>&gt; 2 Years</td>\n",
              "      <td>Yes</td>\n",
              "      <td>38294.0</td>\n",
              "      <td>26.0</td>\n",
              "      <td>27</td>\n",
              "      <td>1</td>\n",
              "    </tr>\n",
              "    <tr>\n",
              "      <th>3</th>\n",
              "      <td>4</td>\n",
              "      <td>Male</td>\n",
              "      <td>21</td>\n",
              "      <td>1</td>\n",
              "      <td>11.0</td>\n",
              "      <td>1</td>\n",
              "      <td>&lt; 1 Year</td>\n",
              "      <td>No</td>\n",
              "      <td>28619.0</td>\n",
              "      <td>152.0</td>\n",
              "      <td>203</td>\n",
              "      <td>0</td>\n",
              "    </tr>\n",
              "    <tr>\n",
              "      <th>4</th>\n",
              "      <td>5</td>\n",
              "      <td>Female</td>\n",
              "      <td>29</td>\n",
              "      <td>1</td>\n",
              "      <td>41.0</td>\n",
              "      <td>1</td>\n",
              "      <td>&lt; 1 Year</td>\n",
              "      <td>No</td>\n",
              "      <td>27496.0</td>\n",
              "      <td>152.0</td>\n",
              "      <td>39</td>\n",
              "      <td>0</td>\n",
              "    </tr>\n",
              "    <tr>\n",
              "      <th>...</th>\n",
              "      <td>...</td>\n",
              "      <td>...</td>\n",
              "      <td>...</td>\n",
              "      <td>...</td>\n",
              "      <td>...</td>\n",
              "      <td>...</td>\n",
              "      <td>...</td>\n",
              "      <td>...</td>\n",
              "      <td>...</td>\n",
              "      <td>...</td>\n",
              "      <td>...</td>\n",
              "      <td>...</td>\n",
              "    </tr>\n",
              "    <tr>\n",
              "      <th>381104</th>\n",
              "      <td>381105</td>\n",
              "      <td>Male</td>\n",
              "      <td>74</td>\n",
              "      <td>1</td>\n",
              "      <td>26.0</td>\n",
              "      <td>1</td>\n",
              "      <td>1-2 Year</td>\n",
              "      <td>No</td>\n",
              "      <td>30170.0</td>\n",
              "      <td>26.0</td>\n",
              "      <td>88</td>\n",
              "      <td>0</td>\n",
              "    </tr>\n",
              "    <tr>\n",
              "      <th>381105</th>\n",
              "      <td>381106</td>\n",
              "      <td>Male</td>\n",
              "      <td>30</td>\n",
              "      <td>1</td>\n",
              "      <td>37.0</td>\n",
              "      <td>1</td>\n",
              "      <td>&lt; 1 Year</td>\n",
              "      <td>No</td>\n",
              "      <td>40016.0</td>\n",
              "      <td>152.0</td>\n",
              "      <td>131</td>\n",
              "      <td>0</td>\n",
              "    </tr>\n",
              "    <tr>\n",
              "      <th>381106</th>\n",
              "      <td>381107</td>\n",
              "      <td>Male</td>\n",
              "      <td>21</td>\n",
              "      <td>1</td>\n",
              "      <td>30.0</td>\n",
              "      <td>1</td>\n",
              "      <td>&lt; 1 Year</td>\n",
              "      <td>No</td>\n",
              "      <td>35118.0</td>\n",
              "      <td>160.0</td>\n",
              "      <td>161</td>\n",
              "      <td>0</td>\n",
              "    </tr>\n",
              "    <tr>\n",
              "      <th>381107</th>\n",
              "      <td>381108</td>\n",
              "      <td>Female</td>\n",
              "      <td>68</td>\n",
              "      <td>1</td>\n",
              "      <td>14.0</td>\n",
              "      <td>0</td>\n",
              "      <td>&gt; 2 Years</td>\n",
              "      <td>Yes</td>\n",
              "      <td>44617.0</td>\n",
              "      <td>124.0</td>\n",
              "      <td>74</td>\n",
              "      <td>0</td>\n",
              "    </tr>\n",
              "    <tr>\n",
              "      <th>381108</th>\n",
              "      <td>381109</td>\n",
              "      <td>Male</td>\n",
              "      <td>46</td>\n",
              "      <td>1</td>\n",
              "      <td>29.0</td>\n",
              "      <td>0</td>\n",
              "      <td>1-2 Year</td>\n",
              "      <td>No</td>\n",
              "      <td>41777.0</td>\n",
              "      <td>26.0</td>\n",
              "      <td>237</td>\n",
              "      <td>0</td>\n",
              "    </tr>\n",
              "  </tbody>\n",
              "</table>\n",
              "<p>381109 rows × 12 columns</p>\n",
              "</div>\n",
              "      <button class=\"colab-df-convert\" onclick=\"convertToInteractive('df-511d7913-53b3-4c74-9ed0-a097222ae526')\"\n",
              "              title=\"Convert this dataframe to an interactive table.\"\n",
              "              style=\"display:none;\">\n",
              "        \n",
              "  <svg xmlns=\"http://www.w3.org/2000/svg\" height=\"24px\"viewBox=\"0 0 24 24\"\n",
              "       width=\"24px\">\n",
              "    <path d=\"M0 0h24v24H0V0z\" fill=\"none\"/>\n",
              "    <path d=\"M18.56 5.44l.94 2.06.94-2.06 2.06-.94-2.06-.94-.94-2.06-.94 2.06-2.06.94zm-11 1L8.5 8.5l.94-2.06 2.06-.94-2.06-.94L8.5 2.5l-.94 2.06-2.06.94zm10 10l.94 2.06.94-2.06 2.06-.94-2.06-.94-.94-2.06-.94 2.06-2.06.94z\"/><path d=\"M17.41 7.96l-1.37-1.37c-.4-.4-.92-.59-1.43-.59-.52 0-1.04.2-1.43.59L10.3 9.45l-7.72 7.72c-.78.78-.78 2.05 0 2.83L4 21.41c.39.39.9.59 1.41.59.51 0 1.02-.2 1.41-.59l7.78-7.78 2.81-2.81c.8-.78.8-2.07 0-2.86zM5.41 20L4 18.59l7.72-7.72 1.47 1.35L5.41 20z\"/>\n",
              "  </svg>\n",
              "      </button>\n",
              "      \n",
              "  <style>\n",
              "    .colab-df-container {\n",
              "      display:flex;\n",
              "      flex-wrap:wrap;\n",
              "      gap: 12px;\n",
              "    }\n",
              "\n",
              "    .colab-df-convert {\n",
              "      background-color: #E8F0FE;\n",
              "      border: none;\n",
              "      border-radius: 50%;\n",
              "      cursor: pointer;\n",
              "      display: none;\n",
              "      fill: #1967D2;\n",
              "      height: 32px;\n",
              "      padding: 0 0 0 0;\n",
              "      width: 32px;\n",
              "    }\n",
              "\n",
              "    .colab-df-convert:hover {\n",
              "      background-color: #E2EBFA;\n",
              "      box-shadow: 0px 1px 2px rgba(60, 64, 67, 0.3), 0px 1px 3px 1px rgba(60, 64, 67, 0.15);\n",
              "      fill: #174EA6;\n",
              "    }\n",
              "\n",
              "    [theme=dark] .colab-df-convert {\n",
              "      background-color: #3B4455;\n",
              "      fill: #D2E3FC;\n",
              "    }\n",
              "\n",
              "    [theme=dark] .colab-df-convert:hover {\n",
              "      background-color: #434B5C;\n",
              "      box-shadow: 0px 1px 3px 1px rgba(0, 0, 0, 0.15);\n",
              "      filter: drop-shadow(0px 1px 2px rgba(0, 0, 0, 0.3));\n",
              "      fill: #FFFFFF;\n",
              "    }\n",
              "  </style>\n",
              "\n",
              "      <script>\n",
              "        const buttonEl =\n",
              "          document.querySelector('#df-511d7913-53b3-4c74-9ed0-a097222ae526 button.colab-df-convert');\n",
              "        buttonEl.style.display =\n",
              "          google.colab.kernel.accessAllowed ? 'block' : 'none';\n",
              "\n",
              "        async function convertToInteractive(key) {\n",
              "          const element = document.querySelector('#df-511d7913-53b3-4c74-9ed0-a097222ae526');\n",
              "          const dataTable =\n",
              "            await google.colab.kernel.invokeFunction('convertToInteractive',\n",
              "                                                     [key], {});\n",
              "          if (!dataTable) return;\n",
              "\n",
              "          const docLinkHtml = 'Like what you see? Visit the ' +\n",
              "            '<a target=\"_blank\" href=https://colab.research.google.com/notebooks/data_table.ipynb>data table notebook</a>'\n",
              "            + ' to learn more about interactive tables.';\n",
              "          element.innerHTML = '';\n",
              "          dataTable['output_type'] = 'display_data';\n",
              "          await google.colab.output.renderOutput(dataTable, element);\n",
              "          const docLink = document.createElement('div');\n",
              "          docLink.innerHTML = docLinkHtml;\n",
              "          element.appendChild(docLink);\n",
              "        }\n",
              "      </script>\n",
              "    </div>\n",
              "  </div>\n",
              "  "
            ],
            "text/plain": [
              "            id  Gender  Age  ...  Policy_Sales_Channel  Vintage  Response\n",
              "0            1    Male   44  ...                  26.0      217         1\n",
              "1            2    Male   76  ...                  26.0      183         0\n",
              "2            3    Male   47  ...                  26.0       27         1\n",
              "3            4    Male   21  ...                 152.0      203         0\n",
              "4            5  Female   29  ...                 152.0       39         0\n",
              "...        ...     ...  ...  ...                   ...      ...       ...\n",
              "381104  381105    Male   74  ...                  26.0       88         0\n",
              "381105  381106    Male   30  ...                 152.0      131         0\n",
              "381106  381107    Male   21  ...                 160.0      161         0\n",
              "381107  381108  Female   68  ...                 124.0       74         0\n",
              "381108  381109    Male   46  ...                  26.0      237         0\n",
              "\n",
              "[381109 rows x 12 columns]"
            ]
          },
          "metadata": {},
          "execution_count": 5
        }
      ],
      "source": [
        "#Let's how the dataset look like\n",
        "df"
      ]
    },
    {
      "cell_type": "code",
      "execution_count": 6,
      "metadata": {
        "colab": {
          "base_uri": "https://localhost:8080/",
          "height": 206
        },
        "id": "Dz75l_WHeFpz",
        "outputId": "de582852-7324-49e2-ce35-524774103ca1"
      },
      "outputs": [
        {
          "output_type": "execute_result",
          "data": {
            "text/html": [
              "\n",
              "  <div id=\"df-5eeac182-7248-420a-a9c5-423d5c2f8cb6\">\n",
              "    <div class=\"colab-df-container\">\n",
              "      <div>\n",
              "<style scoped>\n",
              "    .dataframe tbody tr th:only-of-type {\n",
              "        vertical-align: middle;\n",
              "    }\n",
              "\n",
              "    .dataframe tbody tr th {\n",
              "        vertical-align: top;\n",
              "    }\n",
              "\n",
              "    .dataframe thead th {\n",
              "        text-align: right;\n",
              "    }\n",
              "</style>\n",
              "<table border=\"1\" class=\"dataframe\">\n",
              "  <thead>\n",
              "    <tr style=\"text-align: right;\">\n",
              "      <th></th>\n",
              "      <th>id</th>\n",
              "      <th>Gender</th>\n",
              "      <th>Age</th>\n",
              "      <th>Driving_License</th>\n",
              "      <th>Region_Code</th>\n",
              "      <th>Previously_Insured</th>\n",
              "      <th>Vehicle_Age</th>\n",
              "      <th>Vehicle_Damage</th>\n",
              "      <th>Annual_Premium</th>\n",
              "      <th>Policy_Sales_Channel</th>\n",
              "      <th>Vintage</th>\n",
              "      <th>Response</th>\n",
              "    </tr>\n",
              "  </thead>\n",
              "  <tbody>\n",
              "    <tr>\n",
              "      <th>0</th>\n",
              "      <td>1</td>\n",
              "      <td>Male</td>\n",
              "      <td>44</td>\n",
              "      <td>1</td>\n",
              "      <td>28.0</td>\n",
              "      <td>0</td>\n",
              "      <td>&gt; 2 Years</td>\n",
              "      <td>Yes</td>\n",
              "      <td>40454.0</td>\n",
              "      <td>26.0</td>\n",
              "      <td>217</td>\n",
              "      <td>1</td>\n",
              "    </tr>\n",
              "    <tr>\n",
              "      <th>1</th>\n",
              "      <td>2</td>\n",
              "      <td>Male</td>\n",
              "      <td>76</td>\n",
              "      <td>1</td>\n",
              "      <td>3.0</td>\n",
              "      <td>0</td>\n",
              "      <td>1-2 Year</td>\n",
              "      <td>No</td>\n",
              "      <td>33536.0</td>\n",
              "      <td>26.0</td>\n",
              "      <td>183</td>\n",
              "      <td>0</td>\n",
              "    </tr>\n",
              "    <tr>\n",
              "      <th>2</th>\n",
              "      <td>3</td>\n",
              "      <td>Male</td>\n",
              "      <td>47</td>\n",
              "      <td>1</td>\n",
              "      <td>28.0</td>\n",
              "      <td>0</td>\n",
              "      <td>&gt; 2 Years</td>\n",
              "      <td>Yes</td>\n",
              "      <td>38294.0</td>\n",
              "      <td>26.0</td>\n",
              "      <td>27</td>\n",
              "      <td>1</td>\n",
              "    </tr>\n",
              "    <tr>\n",
              "      <th>3</th>\n",
              "      <td>4</td>\n",
              "      <td>Male</td>\n",
              "      <td>21</td>\n",
              "      <td>1</td>\n",
              "      <td>11.0</td>\n",
              "      <td>1</td>\n",
              "      <td>&lt; 1 Year</td>\n",
              "      <td>No</td>\n",
              "      <td>28619.0</td>\n",
              "      <td>152.0</td>\n",
              "      <td>203</td>\n",
              "      <td>0</td>\n",
              "    </tr>\n",
              "    <tr>\n",
              "      <th>4</th>\n",
              "      <td>5</td>\n",
              "      <td>Female</td>\n",
              "      <td>29</td>\n",
              "      <td>1</td>\n",
              "      <td>41.0</td>\n",
              "      <td>1</td>\n",
              "      <td>&lt; 1 Year</td>\n",
              "      <td>No</td>\n",
              "      <td>27496.0</td>\n",
              "      <td>152.0</td>\n",
              "      <td>39</td>\n",
              "      <td>0</td>\n",
              "    </tr>\n",
              "  </tbody>\n",
              "</table>\n",
              "</div>\n",
              "      <button class=\"colab-df-convert\" onclick=\"convertToInteractive('df-5eeac182-7248-420a-a9c5-423d5c2f8cb6')\"\n",
              "              title=\"Convert this dataframe to an interactive table.\"\n",
              "              style=\"display:none;\">\n",
              "        \n",
              "  <svg xmlns=\"http://www.w3.org/2000/svg\" height=\"24px\"viewBox=\"0 0 24 24\"\n",
              "       width=\"24px\">\n",
              "    <path d=\"M0 0h24v24H0V0z\" fill=\"none\"/>\n",
              "    <path d=\"M18.56 5.44l.94 2.06.94-2.06 2.06-.94-2.06-.94-.94-2.06-.94 2.06-2.06.94zm-11 1L8.5 8.5l.94-2.06 2.06-.94-2.06-.94L8.5 2.5l-.94 2.06-2.06.94zm10 10l.94 2.06.94-2.06 2.06-.94-2.06-.94-.94-2.06-.94 2.06-2.06.94z\"/><path d=\"M17.41 7.96l-1.37-1.37c-.4-.4-.92-.59-1.43-.59-.52 0-1.04.2-1.43.59L10.3 9.45l-7.72 7.72c-.78.78-.78 2.05 0 2.83L4 21.41c.39.39.9.59 1.41.59.51 0 1.02-.2 1.41-.59l7.78-7.78 2.81-2.81c.8-.78.8-2.07 0-2.86zM5.41 20L4 18.59l7.72-7.72 1.47 1.35L5.41 20z\"/>\n",
              "  </svg>\n",
              "      </button>\n",
              "      \n",
              "  <style>\n",
              "    .colab-df-container {\n",
              "      display:flex;\n",
              "      flex-wrap:wrap;\n",
              "      gap: 12px;\n",
              "    }\n",
              "\n",
              "    .colab-df-convert {\n",
              "      background-color: #E8F0FE;\n",
              "      border: none;\n",
              "      border-radius: 50%;\n",
              "      cursor: pointer;\n",
              "      display: none;\n",
              "      fill: #1967D2;\n",
              "      height: 32px;\n",
              "      padding: 0 0 0 0;\n",
              "      width: 32px;\n",
              "    }\n",
              "\n",
              "    .colab-df-convert:hover {\n",
              "      background-color: #E2EBFA;\n",
              "      box-shadow: 0px 1px 2px rgba(60, 64, 67, 0.3), 0px 1px 3px 1px rgba(60, 64, 67, 0.15);\n",
              "      fill: #174EA6;\n",
              "    }\n",
              "\n",
              "    [theme=dark] .colab-df-convert {\n",
              "      background-color: #3B4455;\n",
              "      fill: #D2E3FC;\n",
              "    }\n",
              "\n",
              "    [theme=dark] .colab-df-convert:hover {\n",
              "      background-color: #434B5C;\n",
              "      box-shadow: 0px 1px 3px 1px rgba(0, 0, 0, 0.15);\n",
              "      filter: drop-shadow(0px 1px 2px rgba(0, 0, 0, 0.3));\n",
              "      fill: #FFFFFF;\n",
              "    }\n",
              "  </style>\n",
              "\n",
              "      <script>\n",
              "        const buttonEl =\n",
              "          document.querySelector('#df-5eeac182-7248-420a-a9c5-423d5c2f8cb6 button.colab-df-convert');\n",
              "        buttonEl.style.display =\n",
              "          google.colab.kernel.accessAllowed ? 'block' : 'none';\n",
              "\n",
              "        async function convertToInteractive(key) {\n",
              "          const element = document.querySelector('#df-5eeac182-7248-420a-a9c5-423d5c2f8cb6');\n",
              "          const dataTable =\n",
              "            await google.colab.kernel.invokeFunction('convertToInteractive',\n",
              "                                                     [key], {});\n",
              "          if (!dataTable) return;\n",
              "\n",
              "          const docLinkHtml = 'Like what you see? Visit the ' +\n",
              "            '<a target=\"_blank\" href=https://colab.research.google.com/notebooks/data_table.ipynb>data table notebook</a>'\n",
              "            + ' to learn more about interactive tables.';\n",
              "          element.innerHTML = '';\n",
              "          dataTable['output_type'] = 'display_data';\n",
              "          await google.colab.output.renderOutput(dataTable, element);\n",
              "          const docLink = document.createElement('div');\n",
              "          docLink.innerHTML = docLinkHtml;\n",
              "          element.appendChild(docLink);\n",
              "        }\n",
              "      </script>\n",
              "    </div>\n",
              "  </div>\n",
              "  "
            ],
            "text/plain": [
              "   id  Gender  Age  ...  Policy_Sales_Channel  Vintage  Response\n",
              "0   1    Male   44  ...                  26.0      217         1\n",
              "1   2    Male   76  ...                  26.0      183         0\n",
              "2   3    Male   47  ...                  26.0       27         1\n",
              "3   4    Male   21  ...                 152.0      203         0\n",
              "4   5  Female   29  ...                 152.0       39         0\n",
              "\n",
              "[5 rows x 12 columns]"
            ]
          },
          "metadata": {},
          "execution_count": 6
        }
      ],
      "source": [
        "#Observing first five rows\n",
        "df.head()"
      ]
    },
    {
      "cell_type": "code",
      "execution_count": 7,
      "metadata": {
        "colab": {
          "base_uri": "https://localhost:8080/",
          "height": 206
        },
        "id": "qC5yJRgIeFm5",
        "outputId": "7c0a8680-65c3-474a-baa6-aa30cb814933"
      },
      "outputs": [
        {
          "output_type": "execute_result",
          "data": {
            "text/html": [
              "\n",
              "  <div id=\"df-58b31dae-7d17-4d85-9f1f-47062f86d904\">\n",
              "    <div class=\"colab-df-container\">\n",
              "      <div>\n",
              "<style scoped>\n",
              "    .dataframe tbody tr th:only-of-type {\n",
              "        vertical-align: middle;\n",
              "    }\n",
              "\n",
              "    .dataframe tbody tr th {\n",
              "        vertical-align: top;\n",
              "    }\n",
              "\n",
              "    .dataframe thead th {\n",
              "        text-align: right;\n",
              "    }\n",
              "</style>\n",
              "<table border=\"1\" class=\"dataframe\">\n",
              "  <thead>\n",
              "    <tr style=\"text-align: right;\">\n",
              "      <th></th>\n",
              "      <th>id</th>\n",
              "      <th>Gender</th>\n",
              "      <th>Age</th>\n",
              "      <th>Driving_License</th>\n",
              "      <th>Region_Code</th>\n",
              "      <th>Previously_Insured</th>\n",
              "      <th>Vehicle_Age</th>\n",
              "      <th>Vehicle_Damage</th>\n",
              "      <th>Annual_Premium</th>\n",
              "      <th>Policy_Sales_Channel</th>\n",
              "      <th>Vintage</th>\n",
              "      <th>Response</th>\n",
              "    </tr>\n",
              "  </thead>\n",
              "  <tbody>\n",
              "    <tr>\n",
              "      <th>381104</th>\n",
              "      <td>381105</td>\n",
              "      <td>Male</td>\n",
              "      <td>74</td>\n",
              "      <td>1</td>\n",
              "      <td>26.0</td>\n",
              "      <td>1</td>\n",
              "      <td>1-2 Year</td>\n",
              "      <td>No</td>\n",
              "      <td>30170.0</td>\n",
              "      <td>26.0</td>\n",
              "      <td>88</td>\n",
              "      <td>0</td>\n",
              "    </tr>\n",
              "    <tr>\n",
              "      <th>381105</th>\n",
              "      <td>381106</td>\n",
              "      <td>Male</td>\n",
              "      <td>30</td>\n",
              "      <td>1</td>\n",
              "      <td>37.0</td>\n",
              "      <td>1</td>\n",
              "      <td>&lt; 1 Year</td>\n",
              "      <td>No</td>\n",
              "      <td>40016.0</td>\n",
              "      <td>152.0</td>\n",
              "      <td>131</td>\n",
              "      <td>0</td>\n",
              "    </tr>\n",
              "    <tr>\n",
              "      <th>381106</th>\n",
              "      <td>381107</td>\n",
              "      <td>Male</td>\n",
              "      <td>21</td>\n",
              "      <td>1</td>\n",
              "      <td>30.0</td>\n",
              "      <td>1</td>\n",
              "      <td>&lt; 1 Year</td>\n",
              "      <td>No</td>\n",
              "      <td>35118.0</td>\n",
              "      <td>160.0</td>\n",
              "      <td>161</td>\n",
              "      <td>0</td>\n",
              "    </tr>\n",
              "    <tr>\n",
              "      <th>381107</th>\n",
              "      <td>381108</td>\n",
              "      <td>Female</td>\n",
              "      <td>68</td>\n",
              "      <td>1</td>\n",
              "      <td>14.0</td>\n",
              "      <td>0</td>\n",
              "      <td>&gt; 2 Years</td>\n",
              "      <td>Yes</td>\n",
              "      <td>44617.0</td>\n",
              "      <td>124.0</td>\n",
              "      <td>74</td>\n",
              "      <td>0</td>\n",
              "    </tr>\n",
              "    <tr>\n",
              "      <th>381108</th>\n",
              "      <td>381109</td>\n",
              "      <td>Male</td>\n",
              "      <td>46</td>\n",
              "      <td>1</td>\n",
              "      <td>29.0</td>\n",
              "      <td>0</td>\n",
              "      <td>1-2 Year</td>\n",
              "      <td>No</td>\n",
              "      <td>41777.0</td>\n",
              "      <td>26.0</td>\n",
              "      <td>237</td>\n",
              "      <td>0</td>\n",
              "    </tr>\n",
              "  </tbody>\n",
              "</table>\n",
              "</div>\n",
              "      <button class=\"colab-df-convert\" onclick=\"convertToInteractive('df-58b31dae-7d17-4d85-9f1f-47062f86d904')\"\n",
              "              title=\"Convert this dataframe to an interactive table.\"\n",
              "              style=\"display:none;\">\n",
              "        \n",
              "  <svg xmlns=\"http://www.w3.org/2000/svg\" height=\"24px\"viewBox=\"0 0 24 24\"\n",
              "       width=\"24px\">\n",
              "    <path d=\"M0 0h24v24H0V0z\" fill=\"none\"/>\n",
              "    <path d=\"M18.56 5.44l.94 2.06.94-2.06 2.06-.94-2.06-.94-.94-2.06-.94 2.06-2.06.94zm-11 1L8.5 8.5l.94-2.06 2.06-.94-2.06-.94L8.5 2.5l-.94 2.06-2.06.94zm10 10l.94 2.06.94-2.06 2.06-.94-2.06-.94-.94-2.06-.94 2.06-2.06.94z\"/><path d=\"M17.41 7.96l-1.37-1.37c-.4-.4-.92-.59-1.43-.59-.52 0-1.04.2-1.43.59L10.3 9.45l-7.72 7.72c-.78.78-.78 2.05 0 2.83L4 21.41c.39.39.9.59 1.41.59.51 0 1.02-.2 1.41-.59l7.78-7.78 2.81-2.81c.8-.78.8-2.07 0-2.86zM5.41 20L4 18.59l7.72-7.72 1.47 1.35L5.41 20z\"/>\n",
              "  </svg>\n",
              "      </button>\n",
              "      \n",
              "  <style>\n",
              "    .colab-df-container {\n",
              "      display:flex;\n",
              "      flex-wrap:wrap;\n",
              "      gap: 12px;\n",
              "    }\n",
              "\n",
              "    .colab-df-convert {\n",
              "      background-color: #E8F0FE;\n",
              "      border: none;\n",
              "      border-radius: 50%;\n",
              "      cursor: pointer;\n",
              "      display: none;\n",
              "      fill: #1967D2;\n",
              "      height: 32px;\n",
              "      padding: 0 0 0 0;\n",
              "      width: 32px;\n",
              "    }\n",
              "\n",
              "    .colab-df-convert:hover {\n",
              "      background-color: #E2EBFA;\n",
              "      box-shadow: 0px 1px 2px rgba(60, 64, 67, 0.3), 0px 1px 3px 1px rgba(60, 64, 67, 0.15);\n",
              "      fill: #174EA6;\n",
              "    }\n",
              "\n",
              "    [theme=dark] .colab-df-convert {\n",
              "      background-color: #3B4455;\n",
              "      fill: #D2E3FC;\n",
              "    }\n",
              "\n",
              "    [theme=dark] .colab-df-convert:hover {\n",
              "      background-color: #434B5C;\n",
              "      box-shadow: 0px 1px 3px 1px rgba(0, 0, 0, 0.15);\n",
              "      filter: drop-shadow(0px 1px 2px rgba(0, 0, 0, 0.3));\n",
              "      fill: #FFFFFF;\n",
              "    }\n",
              "  </style>\n",
              "\n",
              "      <script>\n",
              "        const buttonEl =\n",
              "          document.querySelector('#df-58b31dae-7d17-4d85-9f1f-47062f86d904 button.colab-df-convert');\n",
              "        buttonEl.style.display =\n",
              "          google.colab.kernel.accessAllowed ? 'block' : 'none';\n",
              "\n",
              "        async function convertToInteractive(key) {\n",
              "          const element = document.querySelector('#df-58b31dae-7d17-4d85-9f1f-47062f86d904');\n",
              "          const dataTable =\n",
              "            await google.colab.kernel.invokeFunction('convertToInteractive',\n",
              "                                                     [key], {});\n",
              "          if (!dataTable) return;\n",
              "\n",
              "          const docLinkHtml = 'Like what you see? Visit the ' +\n",
              "            '<a target=\"_blank\" href=https://colab.research.google.com/notebooks/data_table.ipynb>data table notebook</a>'\n",
              "            + ' to learn more about interactive tables.';\n",
              "          element.innerHTML = '';\n",
              "          dataTable['output_type'] = 'display_data';\n",
              "          await google.colab.output.renderOutput(dataTable, element);\n",
              "          const docLink = document.createElement('div');\n",
              "          docLink.innerHTML = docLinkHtml;\n",
              "          element.appendChild(docLink);\n",
              "        }\n",
              "      </script>\n",
              "    </div>\n",
              "  </div>\n",
              "  "
            ],
            "text/plain": [
              "            id  Gender  Age  ...  Policy_Sales_Channel  Vintage  Response\n",
              "381104  381105    Male   74  ...                  26.0       88         0\n",
              "381105  381106    Male   30  ...                 152.0      131         0\n",
              "381106  381107    Male   21  ...                 160.0      161         0\n",
              "381107  381108  Female   68  ...                 124.0       74         0\n",
              "381108  381109    Male   46  ...                  26.0      237         0\n",
              "\n",
              "[5 rows x 12 columns]"
            ]
          },
          "metadata": {},
          "execution_count": 7
        }
      ],
      "source": [
        "#Observing last five rows\n",
        "df.tail()"
      ]
    },
    {
      "cell_type": "code",
      "execution_count": 8,
      "metadata": {
        "colab": {
          "base_uri": "https://localhost:8080/"
        },
        "id": "mnLS-L8FeFj2",
        "outputId": "1bc3179b-49b5-40f8-d8d2-2d6b84621797"
      },
      "outputs": [
        {
          "output_type": "execute_result",
          "data": {
            "text/plain": [
              "(381109, 12)"
            ]
          },
          "metadata": {},
          "execution_count": 8
        }
      ],
      "source": [
        "#Checking for number of rows and columns\n",
        "df.shape"
      ]
    },
    {
      "cell_type": "markdown",
      "metadata": {
        "id": "RnZGPrRJXoFM"
      },
      "source": [
        "Dataset has 381109 rows and 12 columns. "
      ]
    },
    {
      "cell_type": "code",
      "execution_count": 9,
      "metadata": {
        "colab": {
          "base_uri": "https://localhost:8080/",
          "height": 394
        },
        "id": "C8y58lC4eFh-",
        "outputId": "a14cabca-d758-4491-e7b0-379f93b561bf"
      },
      "outputs": [
        {
          "output_type": "execute_result",
          "data": {
            "text/html": [
              "\n",
              "  <div id=\"df-7562eadb-816d-41ea-8d94-fbfcb5090b91\">\n",
              "    <div class=\"colab-df-container\">\n",
              "      <div>\n",
              "<style scoped>\n",
              "    .dataframe tbody tr th:only-of-type {\n",
              "        vertical-align: middle;\n",
              "    }\n",
              "\n",
              "    .dataframe tbody tr th {\n",
              "        vertical-align: top;\n",
              "    }\n",
              "\n",
              "    .dataframe thead th {\n",
              "        text-align: right;\n",
              "    }\n",
              "</style>\n",
              "<table border=\"1\" class=\"dataframe\">\n",
              "  <thead>\n",
              "    <tr style=\"text-align: right;\">\n",
              "      <th></th>\n",
              "      <th>id</th>\n",
              "      <th>Gender</th>\n",
              "      <th>Age</th>\n",
              "      <th>Driving_License</th>\n",
              "      <th>Region_Code</th>\n",
              "      <th>Previously_Insured</th>\n",
              "      <th>Vehicle_Age</th>\n",
              "      <th>Vehicle_Damage</th>\n",
              "      <th>Annual_Premium</th>\n",
              "      <th>Policy_Sales_Channel</th>\n",
              "      <th>Vintage</th>\n",
              "      <th>Response</th>\n",
              "    </tr>\n",
              "  </thead>\n",
              "  <tbody>\n",
              "    <tr>\n",
              "      <th>count</th>\n",
              "      <td>381109.000000</td>\n",
              "      <td>381109</td>\n",
              "      <td>381109.000000</td>\n",
              "      <td>381109.000000</td>\n",
              "      <td>381109.000000</td>\n",
              "      <td>381109.000000</td>\n",
              "      <td>381109</td>\n",
              "      <td>381109</td>\n",
              "      <td>381109.000000</td>\n",
              "      <td>381109.000000</td>\n",
              "      <td>381109.000000</td>\n",
              "      <td>381109.000000</td>\n",
              "    </tr>\n",
              "    <tr>\n",
              "      <th>unique</th>\n",
              "      <td>NaN</td>\n",
              "      <td>2</td>\n",
              "      <td>NaN</td>\n",
              "      <td>NaN</td>\n",
              "      <td>NaN</td>\n",
              "      <td>NaN</td>\n",
              "      <td>3</td>\n",
              "      <td>2</td>\n",
              "      <td>NaN</td>\n",
              "      <td>NaN</td>\n",
              "      <td>NaN</td>\n",
              "      <td>NaN</td>\n",
              "    </tr>\n",
              "    <tr>\n",
              "      <th>top</th>\n",
              "      <td>NaN</td>\n",
              "      <td>Male</td>\n",
              "      <td>NaN</td>\n",
              "      <td>NaN</td>\n",
              "      <td>NaN</td>\n",
              "      <td>NaN</td>\n",
              "      <td>1-2 Year</td>\n",
              "      <td>Yes</td>\n",
              "      <td>NaN</td>\n",
              "      <td>NaN</td>\n",
              "      <td>NaN</td>\n",
              "      <td>NaN</td>\n",
              "    </tr>\n",
              "    <tr>\n",
              "      <th>freq</th>\n",
              "      <td>NaN</td>\n",
              "      <td>206089</td>\n",
              "      <td>NaN</td>\n",
              "      <td>NaN</td>\n",
              "      <td>NaN</td>\n",
              "      <td>NaN</td>\n",
              "      <td>200316</td>\n",
              "      <td>192413</td>\n",
              "      <td>NaN</td>\n",
              "      <td>NaN</td>\n",
              "      <td>NaN</td>\n",
              "      <td>NaN</td>\n",
              "    </tr>\n",
              "    <tr>\n",
              "      <th>mean</th>\n",
              "      <td>190555.000000</td>\n",
              "      <td>NaN</td>\n",
              "      <td>38.822584</td>\n",
              "      <td>0.997869</td>\n",
              "      <td>26.388807</td>\n",
              "      <td>0.458210</td>\n",
              "      <td>NaN</td>\n",
              "      <td>NaN</td>\n",
              "      <td>30564.389581</td>\n",
              "      <td>112.034295</td>\n",
              "      <td>154.347397</td>\n",
              "      <td>0.122563</td>\n",
              "    </tr>\n",
              "    <tr>\n",
              "      <th>std</th>\n",
              "      <td>110016.836208</td>\n",
              "      <td>NaN</td>\n",
              "      <td>15.511611</td>\n",
              "      <td>0.046110</td>\n",
              "      <td>13.229888</td>\n",
              "      <td>0.498251</td>\n",
              "      <td>NaN</td>\n",
              "      <td>NaN</td>\n",
              "      <td>17213.155057</td>\n",
              "      <td>54.203995</td>\n",
              "      <td>83.671304</td>\n",
              "      <td>0.327936</td>\n",
              "    </tr>\n",
              "    <tr>\n",
              "      <th>min</th>\n",
              "      <td>1.000000</td>\n",
              "      <td>NaN</td>\n",
              "      <td>20.000000</td>\n",
              "      <td>0.000000</td>\n",
              "      <td>0.000000</td>\n",
              "      <td>0.000000</td>\n",
              "      <td>NaN</td>\n",
              "      <td>NaN</td>\n",
              "      <td>2630.000000</td>\n",
              "      <td>1.000000</td>\n",
              "      <td>10.000000</td>\n",
              "      <td>0.000000</td>\n",
              "    </tr>\n",
              "    <tr>\n",
              "      <th>25%</th>\n",
              "      <td>95278.000000</td>\n",
              "      <td>NaN</td>\n",
              "      <td>25.000000</td>\n",
              "      <td>1.000000</td>\n",
              "      <td>15.000000</td>\n",
              "      <td>0.000000</td>\n",
              "      <td>NaN</td>\n",
              "      <td>NaN</td>\n",
              "      <td>24405.000000</td>\n",
              "      <td>29.000000</td>\n",
              "      <td>82.000000</td>\n",
              "      <td>0.000000</td>\n",
              "    </tr>\n",
              "    <tr>\n",
              "      <th>50%</th>\n",
              "      <td>190555.000000</td>\n",
              "      <td>NaN</td>\n",
              "      <td>36.000000</td>\n",
              "      <td>1.000000</td>\n",
              "      <td>28.000000</td>\n",
              "      <td>0.000000</td>\n",
              "      <td>NaN</td>\n",
              "      <td>NaN</td>\n",
              "      <td>31669.000000</td>\n",
              "      <td>133.000000</td>\n",
              "      <td>154.000000</td>\n",
              "      <td>0.000000</td>\n",
              "    </tr>\n",
              "    <tr>\n",
              "      <th>75%</th>\n",
              "      <td>285832.000000</td>\n",
              "      <td>NaN</td>\n",
              "      <td>49.000000</td>\n",
              "      <td>1.000000</td>\n",
              "      <td>35.000000</td>\n",
              "      <td>1.000000</td>\n",
              "      <td>NaN</td>\n",
              "      <td>NaN</td>\n",
              "      <td>39400.000000</td>\n",
              "      <td>152.000000</td>\n",
              "      <td>227.000000</td>\n",
              "      <td>0.000000</td>\n",
              "    </tr>\n",
              "    <tr>\n",
              "      <th>max</th>\n",
              "      <td>381109.000000</td>\n",
              "      <td>NaN</td>\n",
              "      <td>85.000000</td>\n",
              "      <td>1.000000</td>\n",
              "      <td>52.000000</td>\n",
              "      <td>1.000000</td>\n",
              "      <td>NaN</td>\n",
              "      <td>NaN</td>\n",
              "      <td>540165.000000</td>\n",
              "      <td>163.000000</td>\n",
              "      <td>299.000000</td>\n",
              "      <td>1.000000</td>\n",
              "    </tr>\n",
              "  </tbody>\n",
              "</table>\n",
              "</div>\n",
              "      <button class=\"colab-df-convert\" onclick=\"convertToInteractive('df-7562eadb-816d-41ea-8d94-fbfcb5090b91')\"\n",
              "              title=\"Convert this dataframe to an interactive table.\"\n",
              "              style=\"display:none;\">\n",
              "        \n",
              "  <svg xmlns=\"http://www.w3.org/2000/svg\" height=\"24px\"viewBox=\"0 0 24 24\"\n",
              "       width=\"24px\">\n",
              "    <path d=\"M0 0h24v24H0V0z\" fill=\"none\"/>\n",
              "    <path d=\"M18.56 5.44l.94 2.06.94-2.06 2.06-.94-2.06-.94-.94-2.06-.94 2.06-2.06.94zm-11 1L8.5 8.5l.94-2.06 2.06-.94-2.06-.94L8.5 2.5l-.94 2.06-2.06.94zm10 10l.94 2.06.94-2.06 2.06-.94-2.06-.94-.94-2.06-.94 2.06-2.06.94z\"/><path d=\"M17.41 7.96l-1.37-1.37c-.4-.4-.92-.59-1.43-.59-.52 0-1.04.2-1.43.59L10.3 9.45l-7.72 7.72c-.78.78-.78 2.05 0 2.83L4 21.41c.39.39.9.59 1.41.59.51 0 1.02-.2 1.41-.59l7.78-7.78 2.81-2.81c.8-.78.8-2.07 0-2.86zM5.41 20L4 18.59l7.72-7.72 1.47 1.35L5.41 20z\"/>\n",
              "  </svg>\n",
              "      </button>\n",
              "      \n",
              "  <style>\n",
              "    .colab-df-container {\n",
              "      display:flex;\n",
              "      flex-wrap:wrap;\n",
              "      gap: 12px;\n",
              "    }\n",
              "\n",
              "    .colab-df-convert {\n",
              "      background-color: #E8F0FE;\n",
              "      border: none;\n",
              "      border-radius: 50%;\n",
              "      cursor: pointer;\n",
              "      display: none;\n",
              "      fill: #1967D2;\n",
              "      height: 32px;\n",
              "      padding: 0 0 0 0;\n",
              "      width: 32px;\n",
              "    }\n",
              "\n",
              "    .colab-df-convert:hover {\n",
              "      background-color: #E2EBFA;\n",
              "      box-shadow: 0px 1px 2px rgba(60, 64, 67, 0.3), 0px 1px 3px 1px rgba(60, 64, 67, 0.15);\n",
              "      fill: #174EA6;\n",
              "    }\n",
              "\n",
              "    [theme=dark] .colab-df-convert {\n",
              "      background-color: #3B4455;\n",
              "      fill: #D2E3FC;\n",
              "    }\n",
              "\n",
              "    [theme=dark] .colab-df-convert:hover {\n",
              "      background-color: #434B5C;\n",
              "      box-shadow: 0px 1px 3px 1px rgba(0, 0, 0, 0.15);\n",
              "      filter: drop-shadow(0px 1px 2px rgba(0, 0, 0, 0.3));\n",
              "      fill: #FFFFFF;\n",
              "    }\n",
              "  </style>\n",
              "\n",
              "      <script>\n",
              "        const buttonEl =\n",
              "          document.querySelector('#df-7562eadb-816d-41ea-8d94-fbfcb5090b91 button.colab-df-convert');\n",
              "        buttonEl.style.display =\n",
              "          google.colab.kernel.accessAllowed ? 'block' : 'none';\n",
              "\n",
              "        async function convertToInteractive(key) {\n",
              "          const element = document.querySelector('#df-7562eadb-816d-41ea-8d94-fbfcb5090b91');\n",
              "          const dataTable =\n",
              "            await google.colab.kernel.invokeFunction('convertToInteractive',\n",
              "                                                     [key], {});\n",
              "          if (!dataTable) return;\n",
              "\n",
              "          const docLinkHtml = 'Like what you see? Visit the ' +\n",
              "            '<a target=\"_blank\" href=https://colab.research.google.com/notebooks/data_table.ipynb>data table notebook</a>'\n",
              "            + ' to learn more about interactive tables.';\n",
              "          element.innerHTML = '';\n",
              "          dataTable['output_type'] = 'display_data';\n",
              "          await google.colab.output.renderOutput(dataTable, element);\n",
              "          const docLink = document.createElement('div');\n",
              "          docLink.innerHTML = docLinkHtml;\n",
              "          element.appendChild(docLink);\n",
              "        }\n",
              "      </script>\n",
              "    </div>\n",
              "  </div>\n",
              "  "
            ],
            "text/plain": [
              "                   id  Gender  ...        Vintage       Response\n",
              "count   381109.000000  381109  ...  381109.000000  381109.000000\n",
              "unique            NaN       2  ...            NaN            NaN\n",
              "top               NaN    Male  ...            NaN            NaN\n",
              "freq              NaN  206089  ...            NaN            NaN\n",
              "mean    190555.000000     NaN  ...     154.347397       0.122563\n",
              "std     110016.836208     NaN  ...      83.671304       0.327936\n",
              "min          1.000000     NaN  ...      10.000000       0.000000\n",
              "25%      95278.000000     NaN  ...      82.000000       0.000000\n",
              "50%     190555.000000     NaN  ...     154.000000       0.000000\n",
              "75%     285832.000000     NaN  ...     227.000000       0.000000\n",
              "max     381109.000000     NaN  ...     299.000000       1.000000\n",
              "\n",
              "[11 rows x 12 columns]"
            ]
          },
          "metadata": {},
          "execution_count": 9
        }
      ],
      "source": [
        "#Let's see the descriptive summary \n",
        "df.describe(include='all')"
      ]
    },
    {
      "cell_type": "code",
      "execution_count": 10,
      "metadata": {
        "colab": {
          "base_uri": "https://localhost:8080/"
        },
        "id": "sgBPBQQveRC0",
        "outputId": "224e6944-c0af-4d29-a250-f187a4aa3009"
      },
      "outputs": [
        {
          "output_type": "stream",
          "name": "stdout",
          "text": [
            "<class 'pandas.core.frame.DataFrame'>\n",
            "RangeIndex: 381109 entries, 0 to 381108\n",
            "Data columns (total 12 columns):\n",
            " #   Column                Non-Null Count   Dtype  \n",
            "---  ------                --------------   -----  \n",
            " 0   id                    381109 non-null  int64  \n",
            " 1   Gender                381109 non-null  object \n",
            " 2   Age                   381109 non-null  int64  \n",
            " 3   Driving_License       381109 non-null  int64  \n",
            " 4   Region_Code           381109 non-null  float64\n",
            " 5   Previously_Insured    381109 non-null  int64  \n",
            " 6   Vehicle_Age           381109 non-null  object \n",
            " 7   Vehicle_Damage        381109 non-null  object \n",
            " 8   Annual_Premium        381109 non-null  float64\n",
            " 9   Policy_Sales_Channel  381109 non-null  float64\n",
            " 10  Vintage               381109 non-null  int64  \n",
            " 11  Response              381109 non-null  int64  \n",
            "dtypes: float64(3), int64(6), object(3)\n",
            "memory usage: 34.9+ MB\n"
          ]
        }
      ],
      "source": [
        "#Basic information of dataset\n",
        "df.info()"
      ]
    },
    {
      "cell_type": "code",
      "execution_count": 11,
      "metadata": {
        "colab": {
          "base_uri": "https://localhost:8080/"
        },
        "id": "vJTccU13eQ8S",
        "outputId": "d57c989b-2080-4747-926d-86f0c07d4a0e"
      },
      "outputs": [
        {
          "output_type": "execute_result",
          "data": {
            "text/plain": [
              "0"
            ]
          },
          "metadata": {},
          "execution_count": 11
        }
      ],
      "source": [
        "#Looking for duplicates\n",
        "df.duplicated().sum()"
      ]
    },
    {
      "cell_type": "markdown",
      "metadata": {
        "id": "_vFZ8KbwehPu"
      },
      "source": [
        "There are no duplicates present in the dataset."
      ]
    },
    {
      "cell_type": "markdown",
      "metadata": {
        "id": "g_6LTTQSenXX"
      },
      "source": [
        "#Checking for Null/NaN/Missing Values"
      ]
    },
    {
      "cell_type": "code",
      "execution_count": 12,
      "metadata": {
        "colab": {
          "base_uri": "https://localhost:8080/"
        },
        "id": "U1kW8Ad6ea5b",
        "outputId": "a5500817-05b4-416a-bc1a-c5625f4f6508"
      },
      "outputs": [
        {
          "output_type": "execute_result",
          "data": {
            "text/plain": [
              "id                      0\n",
              "Gender                  0\n",
              "Age                     0\n",
              "Driving_License         0\n",
              "Region_Code             0\n",
              "Previously_Insured      0\n",
              "Vehicle_Age             0\n",
              "Vehicle_Damage          0\n",
              "Annual_Premium          0\n",
              "Policy_Sales_Channel    0\n",
              "Vintage                 0\n",
              "Response                0\n",
              "dtype: int64"
            ]
          },
          "metadata": {},
          "execution_count": 12
        }
      ],
      "source": [
        "#Checking for is their any null value present or not\n",
        "df.isnull().sum()"
      ]
    },
    {
      "cell_type": "markdown",
      "metadata": {
        "id": "nRR7mXqQevby"
      },
      "source": [
        "There is no missing value present in the dataset."
      ]
    },
    {
      "cell_type": "markdown",
      "metadata": {
        "id": "7TsqfsQlfFHP"
      },
      "source": [
        "#Checking for Outliers"
      ]
    },
    {
      "cell_type": "code",
      "execution_count": 13,
      "metadata": {
        "colab": {
          "base_uri": "https://localhost:8080/",
          "height": 719
        },
        "id": "Rgp-C2N6eras",
        "outputId": "e24160ef-1b83-44a7-d8e6-c4a692510a20"
      },
      "outputs": [
        {
          "output_type": "execute_result",
          "data": {
            "text/plain": [
              "<matplotlib.axes._subplots.AxesSubplot at 0x7f3ab9043910>"
            ]
          },
          "metadata": {},
          "execution_count": 13
        },
        {
          "output_type": "display_data",
          "data": {
            "image/png": "[encoded data removed]",
            "text/plain": [
              "<Figure size 1728x864 with 1 Axes>"
            ]
          },
          "metadata": {
            "needs_background": "light"
          }
        }
      ],
      "source": [
        "#Checking for outliers by plotting boxplot\n",
        "fig = plt.figure(figsize =(24, 12))\n",
        "df.boxplot()"
      ]
    },
    {
      "cell_type": "code",
      "execution_count": 14,
      "metadata": {
        "colab": {
          "base_uri": "https://localhost:8080/",
          "height": 296
        },
        "id": "2O2h4aolLa3J",
        "outputId": "9a7969be-cbd4-46e6-9746-d6d2330305ff"
      },
      "outputs": [
        {
          "output_type": "display_data",
          "data": {
            "image/png": "[encoded data removed]",
            "text/plain": [
              "<Figure size 432x288 with 1 Axes>"
            ]
          },
          "metadata": {
            "needs_background": "light"
          }
        }
      ],
      "source": [
        "#Plotting boxplot of Annual_Premium\n",
        "sns.boxplot(df['Annual_Premium'])\n",
        "plt.title(\"boxplot of Annual premium\")\n",
        "plt.show()"
      ]
    },
    {
      "cell_type": "markdown",
      "metadata": {
        "id": "W9auZK1bLtG3"
      },
      "source": [
        "\n",
        "\n",
        "*   From the boxplot we can observe lot of outliers in the variable 'Annual_Premium'. So we have to remove the outliers.\n",
        "\n"
      ]
    },
    {
      "cell_type": "code",
      "execution_count": 15,
      "metadata": {
        "colab": {
          "base_uri": "https://localhost:8080/"
        },
        "id": "4QxqrfBrLI7j",
        "outputId": "1045bf9b-5f49-4cc7-ac95-b8d9256f9587"
      },
      "outputs": [
        {
          "output_type": "execute_result",
          "data": {
            "text/plain": [
              "(61892.5, 1912.5)"
            ]
          },
          "metadata": {},
          "execution_count": 15
        }
      ],
      "source": [
        "#Removing Outliers using IQR\n",
        "def outliers(df, variable, distance):\n",
        "     IQR = df[variable].quantile(0.75) - df[variable].quantile(0.25)\n",
        "     lower_boundary = df[variable].quantile(0.25) - (IQR * distance)\n",
        "     upper_boundary = df[variable].quantile(0.75) + (IQR * distance) \n",
        "        \n",
        "     return upper_boundary, lower_boundary\n",
        "    \n",
        "upper_limit, lower_limit = outliers(df, 'Annual_Premium', 1.5)\n",
        "upper_limit, lower_limit "
      ]
    },
    {
      "cell_type": "code",
      "execution_count": 16,
      "metadata": {
        "id": "Cvk-GVdKLQOo"
      },
      "outputs": [],
      "source": [
        "df['Annual_Premium']= np.where(df['Annual_Premium'] > upper_limit, upper_limit, \n",
        "                                 np.where(df['Annual_Premium'] < lower_limit, lower_limit, df['Annual_Premium']))"
      ]
    },
    {
      "cell_type": "code",
      "execution_count": 17,
      "metadata": {
        "colab": {
          "base_uri": "https://localhost:8080/",
          "height": 296
        },
        "id": "xMc2TUP7LYnt",
        "outputId": "9228c659-141e-4733-ed26-1caa9b4f6299"
      },
      "outputs": [
        {
          "output_type": "display_data",
          "data": {
            "image/png": "[encoded data removed]",
            "text/plain": [
              "<Figure size 432x288 with 1 Axes>"
            ]
          },
          "metadata": {
            "needs_background": "light"
          }
        }
      ],
      "source": [
        "#Plotting boxplot after removing outliers\n",
        "sns.boxplot(df['Annual_Premium'])\n",
        "plt.title(\"boxplot of Annual premium\")\n",
        "plt.show()"
      ]
    },
    {
      "cell_type": "code",
      "execution_count": 18,
      "metadata": {
        "colab": {
          "base_uri": "https://localhost:8080/"
        },
        "id": "GPSEKUixKuf1",
        "outputId": "7099b8ab-269e-448c-b6e5-2623eeac0eda"
      },
      "outputs": [
        {
          "output_type": "execute_result",
          "data": {
            "text/plain": [
              "(381109, 12)"
            ]
          },
          "metadata": {},
          "execution_count": 18
        }
      ],
      "source": [
        "df.shape"
      ]
    },
    {
      "cell_type": "code",
      "execution_count": 19,
      "metadata": {
        "colab": {
          "base_uri": "https://localhost:8080/"
        },
        "id": "T4-yyppGK5qg",
        "outputId": "9051745f-18a5-450e-ac12-40256bc8d348"
      },
      "outputs": [
        {
          "output_type": "execute_result",
          "data": {
            "text/plain": [
              "0"
            ]
          },
          "metadata": {},
          "execution_count": 19
        }
      ],
      "source": [
        "df['Annual_Premium'].isnull().sum()"
      ]
    },
    {
      "cell_type": "markdown",
      "metadata": {
        "id": "HI_bWV0WN2Ij"
      },
      "source": [
        "#Data Visualization"
      ]
    },
    {
      "cell_type": "markdown",
      "metadata": {
        "id": "-4LhvwJ5N7Qk"
      },
      "source": [
        "#Target Variable"
      ]
    },
    {
      "cell_type": "code",
      "execution_count": 20,
      "metadata": {
        "colab": {
          "base_uri": "https://localhost:8080/",
          "height": 549
        },
        "id": "jP8glHOzOBMV",
        "outputId": "15655a15-ac89-41cd-c5d4-c786cd8705fb"
      },
      "outputs": [
        {
          "output_type": "stream",
          "name": "stdout",
          "text": [
            "Percentage of target class\n",
            "\n",
            "0    87.743664\n",
            "1    12.256336\n",
            "Name: Response, dtype: float64\n"
          ]
        },
        {
          "output_type": "display_data",
          "data": {
            "image/png": "[encoded data removed]",
            "text/plain": [
              "<Figure size 720x504 with 2 Axes>"
            ]
          },
          "metadata": {
            "needs_background": "light"
          }
        }
      ],
      "source": [
        "#Plotting the count of Response\n",
        "plt.subplot(1, 2, 1)\n",
        "sns.countplot(df['Response'])\n",
        "plt.title(\"Count of target variable\")\n",
        "\n",
        "#Plotting the percentage of Response\n",
        "plt.subplot(1,2,2)\n",
        "count = df['Response'].value_counts()\n",
        "count.plot.pie(autopct = '%1.1f%%', figsize = (10,7),explode = [0,0.1], title = \"pie chart of Percentage of target class\")\n",
        "print( \"Percentage of target class\\n\")\n",
        "print(df['Response'].value_counts()/len(df)*100)"
      ]
    },
    {
      "cell_type": "markdown",
      "metadata": {
        "id": "JglQuV4gOGEM"
      },
      "source": [
        "\n",
        "*   The target variable is highly imbalanced.\n",
        "\n",
        "*   By the plot we can say that this is imbalance binary classification problem.\n",
        "\n",
        "*   The customers interested in insurance is 87 % as compared to the other one.\n",
        "\n",
        "\n"
      ]
    },
    {
      "cell_type": "markdown",
      "metadata": {
        "id": "WjutuNF4ObPv"
      },
      "source": [
        "#Univariate Analysis Of Categorical Variables"
      ]
    },
    {
      "cell_type": "code",
      "execution_count": 21,
      "metadata": {
        "id": "6HQfMSjeOafs"
      },
      "outputs": [],
      "source": [
        "#Categorical Variables\n",
        "cat_var = ['Vehicle_Age', 'Gender', 'Driving_License', 'Previously_Insured', 'Vehicle_Damage', 'Response' ]"
      ]
    },
    {
      "cell_type": "code",
      "execution_count": 22,
      "metadata": {
        "colab": {
          "base_uri": "https://localhost:8080/",
          "height": 644
        },
        "id": "QQaKCtokOjqB",
        "outputId": "5ecb80ae-fd62-4b7d-a32d-78689437f6a7"
      },
      "outputs": [
        {
          "output_type": "execute_result",
          "data": {
            "text/plain": [
              "<matplotlib.axes._subplots.AxesSubplot at 0x7f3aad7bf410>"
            ]
          },
          "metadata": {},
          "execution_count": 22
        },
        {
          "output_type": "display_data",
          "data": {
            "image/png": "[encoded data removed]",
            "text/plain": [
              "<Figure size 1368x1152 with 6 Axes>"
            ]
          },
          "metadata": {
            "needs_background": "light"
          }
        }
      ],
      "source": [
        "#Plotting count plot of every categorical variable\n",
        "plt.figure(figsize=(19, 16))\n",
        "plt.subplot(3,3,1)\n",
        "sns.countplot(df['Vehicle_Age'])\n",
        "plt.subplot(3,3,2)\n",
        "sns.countplot(df['Gender'])\n",
        "plt.subplot(3,3,3)\n",
        "sns.countplot(df['Driving_License'])\n",
        "plt.subplot(3,3,4)\n",
        "sns.countplot(df['Previously_Insured'])\n",
        "plt.subplot(3,3,5)\n",
        "sns.countplot(df['Vehicle_Damage'])\n",
        "plt.subplot(3,3,6)\n",
        "sns.countplot(df['Response'])"
      ]
    },
    {
      "cell_type": "markdown",
      "metadata": {
        "id": "w7rnlzy3OoCy"
      },
      "source": [
        "Observations :\n",
        "\n",
        "*  The plot shows that most of the vehicle taken in this study is 1-2 years old.There is very less number of customers with vehicle age less than 2 years.\n",
        "\n",
        "*   The gender variable in the dataset is almost equally distributed.\n",
        "\n",
        "*   Almost all people have driving license.\n",
        "\n",
        "\n",
        "*   There are more number of people who have no previous insurance policy than the other one.\n",
        "\n",
        "\n",
        "*   Customers with vehicle damage Yes and NO are equally distributed.\n",
        "\n",
        "*   We can say that most of the customers are not interested in vehicle insurance policy.\n",
        "\n"
      ]
    },
    {
      "cell_type": "markdown",
      "metadata": {
        "id": "Hf5f5QYlPY6A"
      },
      "source": [
        "#Bivariate Analysis Of Categorical Variables with Target Variable"
      ]
    },
    {
      "cell_type": "code",
      "execution_count": 23,
      "metadata": {
        "colab": {
          "base_uri": "https://localhost:8080/",
          "height": 299
        },
        "id": "LzD-12KsPYcF",
        "outputId": "31f19698-2d9c-4c1d-865a-3b4147b57633"
      },
      "outputs": [
        {
          "output_type": "execute_result",
          "data": {
            "text/plain": [
              "<matplotlib.axes._subplots.AxesSubplot at 0x7f3aad5d9e90>"
            ]
          },
          "metadata": {},
          "execution_count": 23
        },
        {
          "output_type": "display_data",
          "data": {
            "image/png": "[encoded data removed]",
            "text/plain": [
              "<Figure size 432x288 with 1 Axes>"
            ]
          },
          "metadata": {
            "needs_background": "light"
          }
        }
      ],
      "source": [
        "#Plotting the count plot of Vehicle_Age vs Response\n",
        "sns.countplot(x ='Vehicle_Age', hue='Response',data =df)"
      ]
    },
    {
      "cell_type": "markdown",
      "metadata": {
        "id": "L5krqLqVPgD8"
      },
      "source": [
        "Customers with vechicle age 1-2 years are more likely to interested in insurance as compared to the other two."
      ]
    },
    {
      "cell_type": "code",
      "execution_count": 24,
      "metadata": {
        "colab": {
          "base_uri": "https://localhost:8080/",
          "height": 297
        },
        "id": "p_6Xxx4YPjeS",
        "outputId": "cfd17a42-74a8-49f6-9c41-5747794ee81d"
      },
      "outputs": [
        {
          "output_type": "execute_result",
          "data": {
            "text/plain": [
              "<matplotlib.axes._subplots.AxesSubplot at 0x7f3aaddc8550>"
            ]
          },
          "metadata": {},
          "execution_count": 24
        },
        {
          "output_type": "display_data",
          "data": {
            "image/png": "[encoded data removed]",
            "text/plain": [
              "<Figure size 432x288 with 1 Axes>"
            ]
          },
          "metadata": {
            "needs_background": "light"
          }
        }
      ],
      "source": [
        "#Plotting the count plot of Gender vs Response\n",
        "sns.countplot(x ='Gender', hue='Response',data = df)"
      ]
    },
    {
      "cell_type": "markdown",
      "metadata": {
        "id": "NHgUvJXLPnAk"
      },
      "source": [
        "Male category is slightly greater than that of female and chances of buying the insurance is also little high."
      ]
    },
    {
      "cell_type": "code",
      "execution_count": 25,
      "metadata": {
        "colab": {
          "base_uri": "https://localhost:8080/",
          "height": 302
        },
        "id": "6qeOOsl9Pqze",
        "outputId": "4f3c003d-d90e-455f-9313-6a444f1d7147"
      },
      "outputs": [
        {
          "output_type": "execute_result",
          "data": {
            "text/plain": [
              "<matplotlib.axes._subplots.AxesSubplot at 0x7f3aaddbef50>"
            ]
          },
          "metadata": {},
          "execution_count": 25
        },
        {
          "output_type": "display_data",
          "data": {
            "image/png": "[encoded data removed]",
            "text/plain": [
              "<Figure size 432x288 with 1 Axes>"
            ]
          },
          "metadata": {
            "needs_background": "light"
          }
        }
      ],
      "source": [
        "#Plotting the count plot of Driving_License vs Response\n",
        "sns.countplot(x ='Driving_License', hue='Response',data =df)"
      ]
    },
    {
      "cell_type": "markdown",
      "metadata": {
        "id": "lousXpyHPt2J"
      },
      "source": [
        "Customers who are interested in Vehicle Insurance almost all have driving license."
      ]
    },
    {
      "cell_type": "code",
      "execution_count": 26,
      "metadata": {
        "colab": {
          "base_uri": "https://localhost:8080/",
          "height": 299
        },
        "id": "GPVDVV0iPx3h",
        "outputId": "4e51a1db-e1e5-401b-fcdd-571a8efd0518"
      },
      "outputs": [
        {
          "output_type": "execute_result",
          "data": {
            "text/plain": [
              "<matplotlib.axes._subplots.AxesSubplot at 0x7f3aad2cf3d0>"
            ]
          },
          "metadata": {},
          "execution_count": 26
        },
        {
          "output_type": "display_data",
          "data": {
            "image/png": "[encoded data removed]",
            "text/plain": [
              "<Figure size 432x288 with 1 Axes>"
            ]
          },
          "metadata": {
            "needs_background": "light"
          }
        }
      ],
      "source": [
        "#Plotting the count plot of Previously_Insured vs Response\n",
        "sns.countplot(x ='Previously_Insured', hue='Response',data =df)"
      ]
    },
    {
      "cell_type": "markdown",
      "metadata": {
        "id": "p59Fv3BSP1d3"
      },
      "source": [
        "From the plot we can say that almost 175000 people was previously insured but their current response is NO."
      ]
    },
    {
      "cell_type": "code",
      "execution_count": 27,
      "metadata": {
        "colab": {
          "base_uri": "https://localhost:8080/",
          "height": 299
        },
        "id": "C0q2l80IP5KG",
        "outputId": "9ddf0492-0c5e-4597-bb05-b4ed387f309a"
      },
      "outputs": [
        {
          "output_type": "execute_result",
          "data": {
            "text/plain": [
              "<matplotlib.axes._subplots.AxesSubplot at 0x7f3aad3e1a10>"
            ]
          },
          "metadata": {},
          "execution_count": 27
        },
        {
          "output_type": "display_data",
          "data": {
            "image/png": "[encoded data removed]",
            "text/plain": [
              "<Figure size 432x288 with 1 Axes>"
            ]
          },
          "metadata": {
            "needs_background": "light"
          }
        }
      ],
      "source": [
        "#Plotting the count plot of Vehicle_Damage vs Response\n",
        "sns.countplot(x ='Vehicle_Damage', hue='Response',data =df)"
      ]
    },
    {
      "cell_type": "markdown",
      "metadata": {
        "id": "s_Lwh27aP862"
      },
      "source": [
        "Customers with vechicle damage are more interested in Vehicle Insurance.\n",
        "\n"
      ]
    },
    {
      "cell_type": "markdown",
      "metadata": {
        "id": "XI3c5n_YQDYD"
      },
      "source": [
        "#Univariate Analysis Of Continuous Variables"
      ]
    },
    {
      "cell_type": "code",
      "execution_count": 28,
      "metadata": {
        "id": "8DhNRGVAQJFd"
      },
      "outputs": [],
      "source": [
        "con_data = ['Age', 'Region_Code', 'Annual_Premium', 'Policy_Sales_Channel', 'Vintage']"
      ]
    },
    {
      "cell_type": "code",
      "execution_count": 29,
      "metadata": {
        "colab": {
          "base_uri": "https://localhost:8080/",
          "height": 644
        },
        "id": "KdFz2WZOQNAb",
        "outputId": "816ee03a-25da-4c67-ea8a-d990df98ec50"
      },
      "outputs": [
        {
          "output_type": "execute_result",
          "data": {
            "text/plain": [
              "<matplotlib.axes._subplots.AxesSubplot at 0x7f3aadaeb1d0>"
            ]
          },
          "metadata": {},
          "execution_count": 29
        },
        {
          "output_type": "display_data",
          "data": {
            "image/png": "[encoded data removed]",
            "text/plain": [
              "<Figure size 1368x1152 with 5 Axes>"
            ]
          },
          "metadata": {
            "needs_background": "light"
          }
        }
      ],
      "source": [
        "#Plotting the distribution plot of continuous variables\n",
        "plt.figure(figsize=(19, 16))\n",
        "plt.subplot(3,3,1)\n",
        "sns.distplot(df['Age'])\n",
        "plt.subplot(3,3,2)\n",
        "sns.distplot(df['Region_Code'])\n",
        "plt.subplot(3,3,3)\n",
        "sns.distplot(df['Annual_Premium'])\n",
        "plt.subplot(3,3,4)\n",
        "sns.distplot(df['Policy_Sales_Channel'])\n",
        "plt.subplot(3,3,5)\n",
        "sns.distplot(df['Vintage'])"
      ]
    },
    {
      "cell_type": "markdown",
      "metadata": {
        "id": "lh4qXf1YQQlD"
      },
      "source": [
        "Observations:\n",
        "\n",
        "\n",
        "*   The Column Age is highly skewed towards right.\n",
        "\n",
        "*   The Column Region Code is randomly distributed.\n",
        "\n",
        "*   The column Annual Premium normaly distributed with little right skewed.\n",
        "\n",
        "*   The variable Policy Sales Channel is randomly distributed with hueness.\n",
        "\n",
        "\n",
        "*   The variable Vintage is uniformly distributed.\n",
        "\n",
        "\n"
      ]
    },
    {
      "cell_type": "markdown",
      "metadata": {
        "id": "w07esjlCQphf"
      },
      "source": [
        "#Bivariate Analysis Of Continous Variables with Target Variable"
      ]
    },
    {
      "cell_type": "code",
      "execution_count": 30,
      "metadata": {
        "colab": {
          "base_uri": "https://localhost:8080/",
          "height": 519
        },
        "id": "U1qNnj5PQrSQ",
        "outputId": "79b68fc5-ffaf-4522-8425-f9ac47c118af"
      },
      "outputs": [
        {
          "output_type": "display_data",
          "data": {
            "image/png": "[encoded data removed]",
            "text/plain": [
              "<Figure size 1152x936 with 5 Axes>"
            ]
          },
          "metadata": {
            "needs_background": "light"
          }
        }
      ],
      "source": [
        "#Plotting box plots of continous variables with Target Variable\n",
        "plt.figure(figsize=(16, 13))\n",
        "plt.subplot(3,3,1)\n",
        "sns.boxplot(df['Response'], df['Age'])\n",
        "plt.subplot(3,3,2)\n",
        "sns.boxplot(df['Response'], df['Region_Code'])\n",
        "plt.subplot(3,3,3)\n",
        "sns.boxplot(df['Response'], df['Annual_Premium'])\n",
        "plt.subplot(3,3,4)\n",
        "sns.boxplot(df['Response'], df['Policy_Sales_Channel'])\n",
        "plt.subplot(3,3,5)\n",
        "sns.boxplot(df['Response'], df['Vintage'])\n",
        "plt.show()"
      ]
    },
    {
      "cell_type": "markdown",
      "metadata": {
        "id": "ju3IUO7WQxUF"
      },
      "source": [
        "Conclusions :\n",
        "\n",
        "\n",
        "*  The customers with maximum age are interested in the vehicle insurance.\n",
        "\n",
        "\n",
        "*  The region code does not affect on the vehicle insurance.\n",
        "\n",
        "*   Also the Annual Premium doesn't affect on vehicle insurance i.e.it seem to have slighlty elevated Annual Premium with response yes or no.\n",
        "\n",
        "\n",
        "*   The customers with response yes or no doesn't affect on variable vintage.\n",
        "\n",
        "\n",
        "\n",
        "\n",
        "\n",
        "\n",
        "\n"
      ]
    },
    {
      "cell_type": "code",
      "execution_count": 31,
      "metadata": {
        "colab": {
          "base_uri": "https://localhost:8080/",
          "height": 820
        },
        "id": "3FoYRxSfRDWC",
        "outputId": "20bc2a45-2ef0-4630-8815-67871f6c59b9"
      },
      "outputs": [
        {
          "output_type": "execute_result",
          "data": {
            "text/plain": [
              "<matplotlib.axes._subplots.AxesSubplot at 0x7f3aad927290>"
            ]
          },
          "metadata": {},
          "execution_count": 31
        },
        {
          "output_type": "display_data",
          "data": {
            "image/png": "[encoded data removed]",
            "text/plain": [
              "<Figure size 1152x864 with 2 Axes>"
            ]
          },
          "metadata": {
            "needs_background": "light"
          }
        }
      ],
      "source": [
        "#Correlation Heatmap\n",
        "plt.figure(figsize=(16,12))\n",
        "sns.heatmap(df.corr(), annot=True)"
      ]
    },
    {
      "cell_type": "markdown",
      "metadata": {
        "id": "Y-k_TZVlVFwe"
      },
      "source": [
        "#Lable Encoding"
      ]
    },
    {
      "cell_type": "code",
      "execution_count": 32,
      "metadata": {
        "id": "WH8asJvnVLKJ"
      },
      "outputs": [],
      "source": [
        "#Importing the label encoder\n",
        "from sklearn.preprocessing import LabelEncoder\n",
        "label_encoder = LabelEncoder()\n",
        "df['Vehicle_Age'] = label_encoder.fit_transform(df['Vehicle_Age'])\n",
        "df['Gender'] = label_encoder.fit_transform(df['Gender'])\n",
        "df['Vehicle_Damage'] = label_encoder.fit_transform(df['Vehicle_Damage'])"
      ]
    },
    {
      "cell_type": "code",
      "execution_count": 33,
      "metadata": {
        "colab": {
          "base_uri": "https://localhost:8080/",
          "height": 423
        },
        "id": "CDAU88U7VOMU",
        "outputId": "5b9ec116-fc41-4bd1-df46-4e2e66069c0b"
      },
      "outputs": [
        {
          "output_type": "execute_result",
          "data": {
            "text/html": [
              "\n",
              "  <div id=\"df-9b25f6af-b2a6-4040-afc1-38b54ed5f80b\">\n",
              "    <div class=\"colab-df-container\">\n",
              "      <div>\n",
              "<style scoped>\n",
              "    .dataframe tbody tr th:only-of-type {\n",
              "        vertical-align: middle;\n",
              "    }\n",
              "\n",
              "    .dataframe tbody tr th {\n",
              "        vertical-align: top;\n",
              "    }\n",
              "\n",
              "    .dataframe thead th {\n",
              "        text-align: right;\n",
              "    }\n",
              "</style>\n",
              "<table border=\"1\" class=\"dataframe\">\n",
              "  <thead>\n",
              "    <tr style=\"text-align: right;\">\n",
              "      <th></th>\n",
              "      <th>id</th>\n",
              "      <th>Gender</th>\n",
              "      <th>Age</th>\n",
              "      <th>Driving_License</th>\n",
              "      <th>Region_Code</th>\n",
              "      <th>Previously_Insured</th>\n",
              "      <th>Vehicle_Age</th>\n",
              "      <th>Vehicle_Damage</th>\n",
              "      <th>Annual_Premium</th>\n",
              "      <th>Policy_Sales_Channel</th>\n",
              "      <th>Vintage</th>\n",
              "      <th>Response</th>\n",
              "    </tr>\n",
              "  </thead>\n",
              "  <tbody>\n",
              "    <tr>\n",
              "      <th>0</th>\n",
              "      <td>1</td>\n",
              "      <td>1</td>\n",
              "      <td>44</td>\n",
              "      <td>1</td>\n",
              "      <td>28.0</td>\n",
              "      <td>0</td>\n",
              "      <td>2</td>\n",
              "      <td>1</td>\n",
              "      <td>40454.0</td>\n",
              "      <td>26.0</td>\n",
              "      <td>217</td>\n",
              "      <td>1</td>\n",
              "    </tr>\n",
              "    <tr>\n",
              "      <th>1</th>\n",
              "      <td>2</td>\n",
              "      <td>1</td>\n",
              "      <td>76</td>\n",
              "      <td>1</td>\n",
              "      <td>3.0</td>\n",
              "      <td>0</td>\n",
              "      <td>0</td>\n",
              "      <td>0</td>\n",
              "      <td>33536.0</td>\n",
              "      <td>26.0</td>\n",
              "      <td>183</td>\n",
              "      <td>0</td>\n",
              "    </tr>\n",
              "    <tr>\n",
              "      <th>2</th>\n",
              "      <td>3</td>\n",
              "      <td>1</td>\n",
              "      <td>47</td>\n",
              "      <td>1</td>\n",
              "      <td>28.0</td>\n",
              "      <td>0</td>\n",
              "      <td>2</td>\n",
              "      <td>1</td>\n",
              "      <td>38294.0</td>\n",
              "      <td>26.0</td>\n",
              "      <td>27</td>\n",
              "      <td>1</td>\n",
              "    </tr>\n",
              "    <tr>\n",
              "      <th>3</th>\n",
              "      <td>4</td>\n",
              "      <td>1</td>\n",
              "      <td>21</td>\n",
              "      <td>1</td>\n",
              "      <td>11.0</td>\n",
              "      <td>1</td>\n",
              "      <td>1</td>\n",
              "      <td>0</td>\n",
              "      <td>28619.0</td>\n",
              "      <td>152.0</td>\n",
              "      <td>203</td>\n",
              "      <td>0</td>\n",
              "    </tr>\n",
              "    <tr>\n",
              "      <th>4</th>\n",
              "      <td>5</td>\n",
              "      <td>0</td>\n",
              "      <td>29</td>\n",
              "      <td>1</td>\n",
              "      <td>41.0</td>\n",
              "      <td>1</td>\n",
              "      <td>1</td>\n",
              "      <td>0</td>\n",
              "      <td>27496.0</td>\n",
              "      <td>152.0</td>\n",
              "      <td>39</td>\n",
              "      <td>0</td>\n",
              "    </tr>\n",
              "    <tr>\n",
              "      <th>...</th>\n",
              "      <td>...</td>\n",
              "      <td>...</td>\n",
              "      <td>...</td>\n",
              "      <td>...</td>\n",
              "      <td>...</td>\n",
              "      <td>...</td>\n",
              "      <td>...</td>\n",
              "      <td>...</td>\n",
              "      <td>...</td>\n",
              "      <td>...</td>\n",
              "      <td>...</td>\n",
              "      <td>...</td>\n",
              "    </tr>\n",
              "    <tr>\n",
              "      <th>381104</th>\n",
              "      <td>381105</td>\n",
              "      <td>1</td>\n",
              "      <td>74</td>\n",
              "      <td>1</td>\n",
              "      <td>26.0</td>\n",
              "      <td>1</td>\n",
              "      <td>0</td>\n",
              "      <td>0</td>\n",
              "      <td>30170.0</td>\n",
              "      <td>26.0</td>\n",
              "      <td>88</td>\n",
              "      <td>0</td>\n",
              "    </tr>\n",
              "    <tr>\n",
              "      <th>381105</th>\n",
              "      <td>381106</td>\n",
              "      <td>1</td>\n",
              "      <td>30</td>\n",
              "      <td>1</td>\n",
              "      <td>37.0</td>\n",
              "      <td>1</td>\n",
              "      <td>1</td>\n",
              "      <td>0</td>\n",
              "      <td>40016.0</td>\n",
              "      <td>152.0</td>\n",
              "      <td>131</td>\n",
              "      <td>0</td>\n",
              "    </tr>\n",
              "    <tr>\n",
              "      <th>381106</th>\n",
              "      <td>381107</td>\n",
              "      <td>1</td>\n",
              "      <td>21</td>\n",
              "      <td>1</td>\n",
              "      <td>30.0</td>\n",
              "      <td>1</td>\n",
              "      <td>1</td>\n",
              "      <td>0</td>\n",
              "      <td>35118.0</td>\n",
              "      <td>160.0</td>\n",
              "      <td>161</td>\n",
              "      <td>0</td>\n",
              "    </tr>\n",
              "    <tr>\n",
              "      <th>381107</th>\n",
              "      <td>381108</td>\n",
              "      <td>0</td>\n",
              "      <td>68</td>\n",
              "      <td>1</td>\n",
              "      <td>14.0</td>\n",
              "      <td>0</td>\n",
              "      <td>2</td>\n",
              "      <td>1</td>\n",
              "      <td>44617.0</td>\n",
              "      <td>124.0</td>\n",
              "      <td>74</td>\n",
              "      <td>0</td>\n",
              "    </tr>\n",
              "    <tr>\n",
              "      <th>381108</th>\n",
              "      <td>381109</td>\n",
              "      <td>1</td>\n",
              "      <td>46</td>\n",
              "      <td>1</td>\n",
              "      <td>29.0</td>\n",
              "      <td>0</td>\n",
              "      <td>0</td>\n",
              "      <td>0</td>\n",
              "      <td>41777.0</td>\n",
              "      <td>26.0</td>\n",
              "      <td>237</td>\n",
              "      <td>0</td>\n",
              "    </tr>\n",
              "  </tbody>\n",
              "</table>\n",
              "<p>381109 rows × 12 columns</p>\n",
              "</div>\n",
              "      <button class=\"colab-df-convert\" onclick=\"convertToInteractive('df-9b25f6af-b2a6-4040-afc1-38b54ed5f80b')\"\n",
              "              title=\"Convert this dataframe to an interactive table.\"\n",
              "              style=\"display:none;\">\n",
              "        \n",
              "  <svg xmlns=\"http://www.w3.org/2000/svg\" height=\"24px\"viewBox=\"0 0 24 24\"\n",
              "       width=\"24px\">\n",
              "    <path d=\"M0 0h24v24H0V0z\" fill=\"none\"/>\n",
              "    <path d=\"M18.56 5.44l.94 2.06.94-2.06 2.06-.94-2.06-.94-.94-2.06-.94 2.06-2.06.94zm-11 1L8.5 8.5l.94-2.06 2.06-.94-2.06-.94L8.5 2.5l-.94 2.06-2.06.94zm10 10l.94 2.06.94-2.06 2.06-.94-2.06-.94-.94-2.06-.94 2.06-2.06.94z\"/><path d=\"M17.41 7.96l-1.37-1.37c-.4-.4-.92-.59-1.43-.59-.52 0-1.04.2-1.43.59L10.3 9.45l-7.72 7.72c-.78.78-.78 2.05 0 2.83L4 21.41c.39.39.9.59 1.41.59.51 0 1.02-.2 1.41-.59l7.78-7.78 2.81-2.81c.8-.78.8-2.07 0-2.86zM5.41 20L4 18.59l7.72-7.72 1.47 1.35L5.41 20z\"/>\n",
              "  </svg>\n",
              "      </button>\n",
              "      \n",
              "  <style>\n",
              "    .colab-df-container {\n",
              "      display:flex;\n",
              "      flex-wrap:wrap;\n",
              "      gap: 12px;\n",
              "    }\n",
              "\n",
              "    .colab-df-convert {\n",
              "      background-color: #E8F0FE;\n",
              "      border: none;\n",
              "      border-radius: 50%;\n",
              "      cursor: pointer;\n",
              "      display: none;\n",
              "      fill: #1967D2;\n",
              "      height: 32px;\n",
              "      padding: 0 0 0 0;\n",
              "      width: 32px;\n",
              "    }\n",
              "\n",
              "    .colab-df-convert:hover {\n",
              "      background-color: #E2EBFA;\n",
              "      box-shadow: 0px 1px 2px rgba(60, 64, 67, 0.3), 0px 1px 3px 1px rgba(60, 64, 67, 0.15);\n",
              "      fill: #174EA6;\n",
              "    }\n",
              "\n",
              "    [theme=dark] .colab-df-convert {\n",
              "      background-color: #3B4455;\n",
              "      fill: #D2E3FC;\n",
              "    }\n",
              "\n",
              "    [theme=dark] .colab-df-convert:hover {\n",
              "      background-color: #434B5C;\n",
              "      box-shadow: 0px 1px 3px 1px rgba(0, 0, 0, 0.15);\n",
              "      filter: drop-shadow(0px 1px 2px rgba(0, 0, 0, 0.3));\n",
              "      fill: #FFFFFF;\n",
              "    }\n",
              "  </style>\n",
              "\n",
              "      <script>\n",
              "        const buttonEl =\n",
              "          document.querySelector('#df-9b25f6af-b2a6-4040-afc1-38b54ed5f80b button.colab-df-convert');\n",
              "        buttonEl.style.display =\n",
              "          google.colab.kernel.accessAllowed ? 'block' : 'none';\n",
              "\n",
              "        async function convertToInteractive(key) {\n",
              "          const element = document.querySelector('#df-9b25f6af-b2a6-4040-afc1-38b54ed5f80b');\n",
              "          const dataTable =\n",
              "            await google.colab.kernel.invokeFunction('convertToInteractive',\n",
              "                                                     [key], {});\n",
              "          if (!dataTable) return;\n",
              "\n",
              "          const docLinkHtml = 'Like what you see? Visit the ' +\n",
              "            '<a target=\"_blank\" href=https://colab.research.google.com/notebooks/data_table.ipynb>data table notebook</a>'\n",
              "            + ' to learn more about interactive tables.';\n",
              "          element.innerHTML = '';\n",
              "          dataTable['output_type'] = 'display_data';\n",
              "          await google.colab.output.renderOutput(dataTable, element);\n",
              "          const docLink = document.createElement('div');\n",
              "          docLink.innerHTML = docLinkHtml;\n",
              "          element.appendChild(docLink);\n",
              "        }\n",
              "      </script>\n",
              "    </div>\n",
              "  </div>\n",
              "  "
            ],
            "text/plain": [
              "            id  Gender  Age  ...  Policy_Sales_Channel  Vintage  Response\n",
              "0            1       1   44  ...                  26.0      217         1\n",
              "1            2       1   76  ...                  26.0      183         0\n",
              "2            3       1   47  ...                  26.0       27         1\n",
              "3            4       1   21  ...                 152.0      203         0\n",
              "4            5       0   29  ...                 152.0       39         0\n",
              "...        ...     ...  ...  ...                   ...      ...       ...\n",
              "381104  381105       1   74  ...                  26.0       88         0\n",
              "381105  381106       1   30  ...                 152.0      131         0\n",
              "381106  381107       1   21  ...                 160.0      161         0\n",
              "381107  381108       0   68  ...                 124.0       74         0\n",
              "381108  381109       1   46  ...                  26.0      237         0\n",
              "\n",
              "[381109 rows x 12 columns]"
            ]
          },
          "metadata": {},
          "execution_count": 33
        }
      ],
      "source": [
        "df"
      ]
    },
    {
      "cell_type": "markdown",
      "metadata": {
        "id": "H7ieTT86Vzlp"
      },
      "source": [
        "#Relationship Between Variables"
      ]
    },
    {
      "cell_type": "code",
      "execution_count": 34,
      "metadata": {
        "colab": {
          "base_uri": "https://localhost:8080/",
          "height": 624
        },
        "id": "VR0-TgM3ZsC-",
        "outputId": "3883f68c-d907-4300-f849-3ddf4a31942b"
      },
      "outputs": [
        {
          "output_type": "execute_result",
          "data": {
            "text/plain": [
              "<matplotlib.axes._subplots.AxesSubplot at 0x7f3aadeb7a10>"
            ]
          },
          "metadata": {},
          "execution_count": 34
        },
        {
          "output_type": "display_data",
          "data": {
            "image/png": "[encoded data removed]",
            "text/plain": [
              "<Figure size 1440x720 with 1 Axes>"
            ]
          },
          "metadata": {
            "needs_background": "light"
          }
        }
      ],
      "source": [
        "#Age VS Response\n",
        "plt.figure(figsize=(20,10))\n",
        "sns.countplot(x='Age',hue='Response',data=df)"
      ]
    },
    {
      "cell_type": "markdown",
      "metadata": {
        "id": "fQH9EPK6Z7AG"
      },
      "source": [
        "The people below the age 30 are not interested in vehicle insurance. Reasons behind this could be lack of experience, less maturity level and they don't have expensive vehicles yet.\n",
        "People aged between 30-60 are more likely to be interested in vehicle Insurance."
      ]
    },
    {
      "cell_type": "code",
      "execution_count": 35,
      "metadata": {
        "colab": {
          "base_uri": "https://localhost:8080/",
          "height": 624
        },
        "id": "n0X1eD8XZr1t",
        "outputId": "41ea9f7d-03be-4cd8-ec76-faa40b6f61ee"
      },
      "outputs": [
        {
          "output_type": "execute_result",
          "data": {
            "text/plain": [
              "<matplotlib.axes._subplots.AxesSubplot at 0x7f3aac11a490>"
            ]
          },
          "metadata": {},
          "execution_count": 35
        },
        {
          "output_type": "display_data",
          "data": {
            "image/png": "[encoded data removed]",
            "text/plain": [
              "<Figure size 1440x720 with 1 Axes>"
            ]
          },
          "metadata": {
            "needs_background": "light"
          }
        }
      ],
      "source": [
        "#Age VS Region code\n",
        "plt.figure(figsize=(20,10))\n",
        "sns.countplot(x='Region_Code',hue='Response',data=df)"
      ]
    },
    {
      "cell_type": "markdown",
      "metadata": {
        "id": "pXsrXQZVkHrH"
      },
      "source": [
        "The indivisuals with region code 28 the highest as compared to the other ones and also most interested in vehicle insurance."
      ]
    },
    {
      "cell_type": "code",
      "execution_count": 36,
      "metadata": {
        "colab": {
          "base_uri": "https://localhost:8080/",
          "height": 388
        },
        "id": "M354NtCaV8gW",
        "outputId": "274b626a-152a-4cf5-8be8-424fe2be36a6"
      },
      "outputs": [
        {
          "output_type": "execute_result",
          "data": {
            "text/plain": [
              "<seaborn.axisgrid.FacetGrid at 0x7f3aabe52210>"
            ]
          },
          "metadata": {},
          "execution_count": 36
        },
        {
          "output_type": "display_data",
          "data": {
            "image/png": "[encoded data removed]",
            "text/plain": [
              "<Figure size 415.75x360 with 1 Axes>"
            ]
          },
          "metadata": {
            "needs_background": "light"
          }
        }
      ],
      "source": [
        "#Plotting catplot \n",
        "sns.catplot(x='Gender', y='Age', hue = 'Response', kind = 'bar', data = df) "
      ]
    },
    {
      "cell_type": "markdown",
      "metadata": {
        "id": "s4g69l0jWGFW"
      },
      "source": [
        "More Females have taken insurance as compared to males."
      ]
    },
    {
      "cell_type": "code",
      "execution_count": 37,
      "metadata": {
        "colab": {
          "base_uri": "https://localhost:8080/",
          "height": 388
        },
        "id": "AZwlMvEHWH9M",
        "outputId": "ed69a526-aacb-42d8-c46c-5d69c42172ef"
      },
      "outputs": [
        {
          "output_type": "execute_result",
          "data": {
            "text/plain": [
              "<seaborn.axisgrid.FacetGrid at 0x7f3aabce8410>"
            ]
          },
          "metadata": {},
          "execution_count": 37
        },
        {
          "output_type": "display_data",
          "data": {
            "image/png": "[encoded data removed]",
            "text/plain": [
              "<Figure size 404.875x360 with 1 Axes>"
            ]
          },
          "metadata": {
            "needs_background": "light"
          }
        }
      ],
      "source": [
        "#Plotting catplot \n",
        "sns.catplot(x='Driving_License', y='Previously_Insured', hue='Gender', kind = 'bar', data = df)"
      ]
    },
    {
      "cell_type": "markdown",
      "metadata": {
        "id": "JHgGCnS_WdGS"
      },
      "source": [
        "More number of females who have Previously insured have Driving license."
      ]
    },
    {
      "cell_type": "code",
      "execution_count": 38,
      "metadata": {
        "colab": {
          "base_uri": "https://localhost:8080/",
          "height": 388
        },
        "id": "H2bot3taWf2E",
        "outputId": "da2a47c6-5f6a-4297-cfa2-f6de5bc769e0"
      },
      "outputs": [
        {
          "output_type": "execute_result",
          "data": {
            "text/plain": [
              "<seaborn.axisgrid.FacetGrid at 0x7f3aac04ee90>"
            ]
          },
          "metadata": {},
          "execution_count": 38
        },
        {
          "output_type": "display_data",
          "data": {
            "image/png": "[encoded data removed]",
            "text/plain": [
              "<Figure size 415.75x360 with 1 Axes>"
            ]
          },
          "metadata": {
            "needs_background": "light"
          }
        }
      ],
      "source": [
        "#Plotting catplot \n",
        "sns.catplot(x='Driving_License', y='Previously_Insured', hue='Response', kind = 'bar', data = df)"
      ]
    },
    {
      "cell_type": "markdown",
      "metadata": {
        "id": "oRkeAoChWsM0"
      },
      "source": [
        "People who have Previously insured have shown interest in taking new insurance."
      ]
    },
    {
      "cell_type": "code",
      "execution_count": 39,
      "metadata": {
        "colab": {
          "base_uri": "https://localhost:8080/",
          "height": 388
        },
        "id": "OmB6dpMnXJ-h",
        "outputId": "bf18c691-7f42-47a4-c248-01009cb43e89"
      },
      "outputs": [
        {
          "output_type": "execute_result",
          "data": {
            "text/plain": [
              "<seaborn.axisgrid.FacetGrid at 0x7f3aac114d50>"
            ]
          },
          "metadata": {},
          "execution_count": 39
        },
        {
          "output_type": "display_data",
          "data": {
            "image/png": "[encoded data removed]",
            "text/plain": [
              "<Figure size 415.75x360 with 1 Axes>"
            ]
          },
          "metadata": {
            "needs_background": "light"
          }
        }
      ],
      "source": [
        "#Plotting catplot\n",
        "sns.catplot(x='Vehicle_Damage', y='Annual_Premium', hue='Response', kind = 'bar', data = df)"
      ]
    },
    {
      "cell_type": "markdown",
      "metadata": {
        "id": "1ziK34TFXORS"
      },
      "source": [
        "People having Vehicle Damage tend to buy insurance as compared to the ones who do not have any damage."
      ]
    },
    {
      "cell_type": "code",
      "execution_count": 40,
      "metadata": {
        "colab": {
          "base_uri": "https://localhost:8080/",
          "height": 388
        },
        "id": "yYwkOsqHWzoV",
        "outputId": "1af080f7-79a7-4439-c955-61ac2e2f1394"
      },
      "outputs": [
        {
          "output_type": "execute_result",
          "data": {
            "text/plain": [
              "<seaborn.axisgrid.FacetGrid at 0x7f3aad8bdfd0>"
            ]
          },
          "metadata": {},
          "execution_count": 40
        },
        {
          "output_type": "display_data",
          "data": {
            "image/png": "[encoded data removed]",
            "text/plain": [
              "<Figure size 415.75x360 with 1 Axes>"
            ]
          },
          "metadata": {
            "needs_background": "light"
          }
        }
      ],
      "source": [
        "#Plotting catplot\n",
        "sns.catplot(x='Vehicle_Age', y='Annual_Premium', hue='Response', kind = 'bar', data = df)"
      ]
    },
    {
      "cell_type": "code",
      "execution_count": 41,
      "metadata": {
        "colab": {
          "base_uri": "https://localhost:8080/",
          "height": 388
        },
        "id": "iMAw9T38XVVd",
        "outputId": "4daa74ad-e55a-4b58-edac-25b0e9ff7ea5"
      },
      "outputs": [
        {
          "output_type": "execute_result",
          "data": {
            "text/plain": [
              "<seaborn.axisgrid.FacetGrid at 0x7f3aad9333d0>"
            ]
          },
          "metadata": {},
          "execution_count": 41
        },
        {
          "output_type": "display_data",
          "data": {
            "image/png": "[encoded data removed]",
            "text/plain": [
              "<Figure size 415.75x360 with 1 Axes>"
            ]
          },
          "metadata": {
            "needs_background": "light"
          }
        }
      ],
      "source": [
        "#Plotting catplot\n",
        "sns.catplot(x='Vehicle_Age', y='Vehicle_Damage', hue='Response', kind = 'bar', data = df)"
      ]
    },
    {
      "cell_type": "markdown",
      "metadata": {
        "id": "r87jH1JrXz8q"
      },
      "source": [
        "People having Vehicles with age > 2 years have to pay more amount of annual premium and that has lead to higher number of people from that category not taking insurance. We need to modify the amount little bit so that people from that category do not skip taking insurance."
      ]
    },
    {
      "cell_type": "code",
      "execution_count": 42,
      "metadata": {
        "colab": {
          "base_uri": "https://localhost:8080/",
          "height": 388
        },
        "id": "G71aKnvyXiYo",
        "outputId": "2b02f4cb-ff1d-4d81-b07e-e565abb57717"
      },
      "outputs": [
        {
          "output_type": "execute_result",
          "data": {
            "text/plain": [
              "<seaborn.axisgrid.FacetGrid at 0x7f3aad9c0850>"
            ]
          },
          "metadata": {},
          "execution_count": 42
        },
        {
          "output_type": "display_data",
          "data": {
            "image/png": "[encoded data removed]",
            "text/plain": [
              "<Figure size 461.25x360 with 1 Axes>"
            ]
          },
          "metadata": {
            "needs_background": "light"
          }
        }
      ],
      "source": [
        "#Plotting catplot\n",
        "sns.catplot(x='Vehicle_Damage', y='Annual_Premium', hue='Previously_Insured', kind = 'bar', data = df)"
      ]
    },
    {
      "cell_type": "markdown",
      "metadata": {
        "id": "PWxtipd1Xk8-"
      },
      "source": [
        "People having vehicle damage are not interested most as compared to other ones. "
      ]
    },
    {
      "cell_type": "code",
      "execution_count": 43,
      "metadata": {
        "colab": {
          "base_uri": "https://localhost:8080/",
          "height": 820
        },
        "id": "75Cs9rv2X5_e",
        "outputId": "19918284-5c4b-4a67-a204-36299fc4c12d"
      },
      "outputs": [
        {
          "output_type": "execute_result",
          "data": {
            "text/plain": [
              "<matplotlib.axes._subplots.AxesSubplot at 0x7f3aabc3d0d0>"
            ]
          },
          "metadata": {},
          "execution_count": 43
        },
        {
          "output_type": "display_data",
          "data": {
            "image/png": "[encoded data removed]",
            "text/plain": [
              "<Figure size 1152x864 with 2 Axes>"
            ]
          },
          "metadata": {
            "needs_background": "light"
          }
        }
      ],
      "source": [
        "#Correlation Heatmap\n",
        "plt.figure(figsize=(16,12))\n",
        "sns.heatmap(df.corr(), annot=True)"
      ]
    },
    {
      "cell_type": "markdown",
      "metadata": {
        "id": "6VPHCuq1X9QT"
      },
      "source": [
        "**Conclusion:**\n",
        "\n",
        "\n",
        "\n",
        "\n",
        "*   We can see that the most influencing factors for Response are Vehicle_Damage and Previously_Insured, followed by Vehicle_Age and Policy_Sales_Channel.\n",
        "\n",
        "\n",
        "\n",
        "*   Vehicle_Damage is highly correlated with Previously_Insured with correlation of -0.82.\n",
        "\n",
        "\n",
        "*   Policy_Sales_Channel is correlated with Age with correlation with -0.58.\n",
        "\n",
        "\n"
      ]
    },
    {
      "cell_type": "markdown",
      "metadata": {
        "id": "7SaI7hnEYMmW"
      },
      "source": [
        "#Creating Independent and Dependent Variables"
      ]
    },
    {
      "cell_type": "code",
      "execution_count": 44,
      "metadata": {
        "colab": {
          "base_uri": "https://localhost:8080/",
          "height": 423
        },
        "id": "95-2WTtTYHeI",
        "outputId": "8f301906-2101-482d-f569-411c7dd491a3"
      },
      "outputs": [
        {
          "output_type": "execute_result",
          "data": {
            "text/html": [
              "\n",
              "  <div id=\"df-82ff53bd-bc69-41fc-8e5e-e8b79c62b78e\">\n",
              "    <div class=\"colab-df-container\">\n",
              "      <div>\n",
              "<style scoped>\n",
              "    .dataframe tbody tr th:only-of-type {\n",
              "        vertical-align: middle;\n",
              "    }\n",
              "\n",
              "    .dataframe tbody tr th {\n",
              "        vertical-align: top;\n",
              "    }\n",
              "\n",
              "    .dataframe thead th {\n",
              "        text-align: right;\n",
              "    }\n",
              "</style>\n",
              "<table border=\"1\" class=\"dataframe\">\n",
              "  <thead>\n",
              "    <tr style=\"text-align: right;\">\n",
              "      <th></th>\n",
              "      <th>id</th>\n",
              "      <th>Gender</th>\n",
              "      <th>Age</th>\n",
              "      <th>Driving_License</th>\n",
              "      <th>Region_Code</th>\n",
              "      <th>Previously_Insured</th>\n",
              "      <th>Vehicle_Age</th>\n",
              "      <th>Vehicle_Damage</th>\n",
              "      <th>Annual_Premium</th>\n",
              "      <th>Policy_Sales_Channel</th>\n",
              "      <th>Vintage</th>\n",
              "    </tr>\n",
              "  </thead>\n",
              "  <tbody>\n",
              "    <tr>\n",
              "      <th>0</th>\n",
              "      <td>1</td>\n",
              "      <td>1</td>\n",
              "      <td>44</td>\n",
              "      <td>1</td>\n",
              "      <td>28.0</td>\n",
              "      <td>0</td>\n",
              "      <td>2</td>\n",
              "      <td>1</td>\n",
              "      <td>40454.0</td>\n",
              "      <td>26.0</td>\n",
              "      <td>217</td>\n",
              "    </tr>\n",
              "    <tr>\n",
              "      <th>1</th>\n",
              "      <td>2</td>\n",
              "      <td>1</td>\n",
              "      <td>76</td>\n",
              "      <td>1</td>\n",
              "      <td>3.0</td>\n",
              "      <td>0</td>\n",
              "      <td>0</td>\n",
              "      <td>0</td>\n",
              "      <td>33536.0</td>\n",
              "      <td>26.0</td>\n",
              "      <td>183</td>\n",
              "    </tr>\n",
              "    <tr>\n",
              "      <th>2</th>\n",
              "      <td>3</td>\n",
              "      <td>1</td>\n",
              "      <td>47</td>\n",
              "      <td>1</td>\n",
              "      <td>28.0</td>\n",
              "      <td>0</td>\n",
              "      <td>2</td>\n",
              "      <td>1</td>\n",
              "      <td>38294.0</td>\n",
              "      <td>26.0</td>\n",
              "      <td>27</td>\n",
              "    </tr>\n",
              "    <tr>\n",
              "      <th>3</th>\n",
              "      <td>4</td>\n",
              "      <td>1</td>\n",
              "      <td>21</td>\n",
              "      <td>1</td>\n",
              "      <td>11.0</td>\n",
              "      <td>1</td>\n",
              "      <td>1</td>\n",
              "      <td>0</td>\n",
              "      <td>28619.0</td>\n",
              "      <td>152.0</td>\n",
              "      <td>203</td>\n",
              "    </tr>\n",
              "    <tr>\n",
              "      <th>4</th>\n",
              "      <td>5</td>\n",
              "      <td>0</td>\n",
              "      <td>29</td>\n",
              "      <td>1</td>\n",
              "      <td>41.0</td>\n",
              "      <td>1</td>\n",
              "      <td>1</td>\n",
              "      <td>0</td>\n",
              "      <td>27496.0</td>\n",
              "      <td>152.0</td>\n",
              "      <td>39</td>\n",
              "    </tr>\n",
              "    <tr>\n",
              "      <th>...</th>\n",
              "      <td>...</td>\n",
              "      <td>...</td>\n",
              "      <td>...</td>\n",
              "      <td>...</td>\n",
              "      <td>...</td>\n",
              "      <td>...</td>\n",
              "      <td>...</td>\n",
              "      <td>...</td>\n",
              "      <td>...</td>\n",
              "      <td>...</td>\n",
              "      <td>...</td>\n",
              "    </tr>\n",
              "    <tr>\n",
              "      <th>381104</th>\n",
              "      <td>381105</td>\n",
              "      <td>1</td>\n",
              "      <td>74</td>\n",
              "      <td>1</td>\n",
              "      <td>26.0</td>\n",
              "      <td>1</td>\n",
              "      <td>0</td>\n",
              "      <td>0</td>\n",
              "      <td>30170.0</td>\n",
              "      <td>26.0</td>\n",
              "      <td>88</td>\n",
              "    </tr>\n",
              "    <tr>\n",
              "      <th>381105</th>\n",
              "      <td>381106</td>\n",
              "      <td>1</td>\n",
              "      <td>30</td>\n",
              "      <td>1</td>\n",
              "      <td>37.0</td>\n",
              "      <td>1</td>\n",
              "      <td>1</td>\n",
              "      <td>0</td>\n",
              "      <td>40016.0</td>\n",
              "      <td>152.0</td>\n",
              "      <td>131</td>\n",
              "    </tr>\n",
              "    <tr>\n",
              "      <th>381106</th>\n",
              "      <td>381107</td>\n",
              "      <td>1</td>\n",
              "      <td>21</td>\n",
              "      <td>1</td>\n",
              "      <td>30.0</td>\n",
              "      <td>1</td>\n",
              "      <td>1</td>\n",
              "      <td>0</td>\n",
              "      <td>35118.0</td>\n",
              "      <td>160.0</td>\n",
              "      <td>161</td>\n",
              "    </tr>\n",
              "    <tr>\n",
              "      <th>381107</th>\n",
              "      <td>381108</td>\n",
              "      <td>0</td>\n",
              "      <td>68</td>\n",
              "      <td>1</td>\n",
              "      <td>14.0</td>\n",
              "      <td>0</td>\n",
              "      <td>2</td>\n",
              "      <td>1</td>\n",
              "      <td>44617.0</td>\n",
              "      <td>124.0</td>\n",
              "      <td>74</td>\n",
              "    </tr>\n",
              "    <tr>\n",
              "      <th>381108</th>\n",
              "      <td>381109</td>\n",
              "      <td>1</td>\n",
              "      <td>46</td>\n",
              "      <td>1</td>\n",
              "      <td>29.0</td>\n",
              "      <td>0</td>\n",
              "      <td>0</td>\n",
              "      <td>0</td>\n",
              "      <td>41777.0</td>\n",
              "      <td>26.0</td>\n",
              "      <td>237</td>\n",
              "    </tr>\n",
              "  </tbody>\n",
              "</table>\n",
              "<p>381109 rows × 11 columns</p>\n",
              "</div>\n",
              "      <button class=\"colab-df-convert\" onclick=\"convertToInteractive('df-82ff53bd-bc69-41fc-8e5e-e8b79c62b78e')\"\n",
              "              title=\"Convert this dataframe to an interactive table.\"\n",
              "              style=\"display:none;\">\n",
              "        \n",
              "  <svg xmlns=\"http://www.w3.org/2000/svg\" height=\"24px\"viewBox=\"0 0 24 24\"\n",
              "       width=\"24px\">\n",
              "    <path d=\"M0 0h24v24H0V0z\" fill=\"none\"/>\n",
              "    <path d=\"M18.56 5.44l.94 2.06.94-2.06 2.06-.94-2.06-.94-.94-2.06-.94 2.06-2.06.94zm-11 1L8.5 8.5l.94-2.06 2.06-.94-2.06-.94L8.5 2.5l-.94 2.06-2.06.94zm10 10l.94 2.06.94-2.06 2.06-.94-2.06-.94-.94-2.06-.94 2.06-2.06.94z\"/><path d=\"M17.41 7.96l-1.37-1.37c-.4-.4-.92-.59-1.43-.59-.52 0-1.04.2-1.43.59L10.3 9.45l-7.72 7.72c-.78.78-.78 2.05 0 2.83L4 21.41c.39.39.9.59 1.41.59.51 0 1.02-.2 1.41-.59l7.78-7.78 2.81-2.81c.8-.78.8-2.07 0-2.86zM5.41 20L4 18.59l7.72-7.72 1.47 1.35L5.41 20z\"/>\n",
              "  </svg>\n",
              "      </button>\n",
              "      \n",
              "  <style>\n",
              "    .colab-df-container {\n",
              "      display:flex;\n",
              "      flex-wrap:wrap;\n",
              "      gap: 12px;\n",
              "    }\n",
              "\n",
              "    .colab-df-convert {\n",
              "      background-color: #E8F0FE;\n",
              "      border: none;\n",
              "      border-radius: 50%;\n",
              "      cursor: pointer;\n",
              "      display: none;\n",
              "      fill: #1967D2;\n",
              "      height: 32px;\n",
              "      padding: 0 0 0 0;\n",
              "      width: 32px;\n",
              "    }\n",
              "\n",
              "    .colab-df-convert:hover {\n",
              "      background-color: #E2EBFA;\n",
              "      box-shadow: 0px 1px 2px rgba(60, 64, 67, 0.3), 0px 1px 3px 1px rgba(60, 64, 67, 0.15);\n",
              "      fill: #174EA6;\n",
              "    }\n",
              "\n",
              "    [theme=dark] .colab-df-convert {\n",
              "      background-color: #3B4455;\n",
              "      fill: #D2E3FC;\n",
              "    }\n",
              "\n",
              "    [theme=dark] .colab-df-convert:hover {\n",
              "      background-color: #434B5C;\n",
              "      box-shadow: 0px 1px 3px 1px rgba(0, 0, 0, 0.15);\n",
              "      filter: drop-shadow(0px 1px 2px rgba(0, 0, 0, 0.3));\n",
              "      fill: #FFFFFF;\n",
              "    }\n",
              "  </style>\n",
              "\n",
              "      <script>\n",
              "        const buttonEl =\n",
              "          document.querySelector('#df-82ff53bd-bc69-41fc-8e5e-e8b79c62b78e button.colab-df-convert');\n",
              "        buttonEl.style.display =\n",
              "          google.colab.kernel.accessAllowed ? 'block' : 'none';\n",
              "\n",
              "        async function convertToInteractive(key) {\n",
              "          const element = document.querySelector('#df-82ff53bd-bc69-41fc-8e5e-e8b79c62b78e');\n",
              "          const dataTable =\n",
              "            await google.colab.kernel.invokeFunction('convertToInteractive',\n",
              "                                                     [key], {});\n",
              "          if (!dataTable) return;\n",
              "\n",
              "          const docLinkHtml = 'Like what you see? Visit the ' +\n",
              "            '<a target=\"_blank\" href=https://colab.research.google.com/notebooks/data_table.ipynb>data table notebook</a>'\n",
              "            + ' to learn more about interactive tables.';\n",
              "          element.innerHTML = '';\n",
              "          dataTable['output_type'] = 'display_data';\n",
              "          await google.colab.output.renderOutput(dataTable, element);\n",
              "          const docLink = document.createElement('div');\n",
              "          docLink.innerHTML = docLinkHtml;\n",
              "          element.appendChild(docLink);\n",
              "        }\n",
              "      </script>\n",
              "    </div>\n",
              "  </div>\n",
              "  "
            ],
            "text/plain": [
              "            id  Gender  Age  ...  Annual_Premium  Policy_Sales_Channel  Vintage\n",
              "0            1       1   44  ...         40454.0                  26.0      217\n",
              "1            2       1   76  ...         33536.0                  26.0      183\n",
              "2            3       1   47  ...         38294.0                  26.0       27\n",
              "3            4       1   21  ...         28619.0                 152.0      203\n",
              "4            5       0   29  ...         27496.0                 152.0       39\n",
              "...        ...     ...  ...  ...             ...                   ...      ...\n",
              "381104  381105       1   74  ...         30170.0                  26.0       88\n",
              "381105  381106       1   30  ...         40016.0                 152.0      131\n",
              "381106  381107       1   21  ...         35118.0                 160.0      161\n",
              "381107  381108       0   68  ...         44617.0                 124.0       74\n",
              "381108  381109       1   46  ...         41777.0                  26.0      237\n",
              "\n",
              "[381109 rows x 11 columns]"
            ]
          },
          "metadata": {},
          "execution_count": 44
        }
      ],
      "source": [
        "#Independent Variable\n",
        "X = df.drop('Response',axis=1)\n",
        "X"
      ]
    },
    {
      "cell_type": "code",
      "execution_count": 45,
      "metadata": {
        "colab": {
          "base_uri": "https://localhost:8080/"
        },
        "id": "5hY06hIdYYBn",
        "outputId": "3949de8b-6cea-44e9-b28f-78698186981c"
      },
      "outputs": [
        {
          "output_type": "execute_result",
          "data": {
            "text/plain": [
              "(381109, 11)"
            ]
          },
          "metadata": {},
          "execution_count": 45
        }
      ],
      "source": [
        "X.shape"
      ]
    },
    {
      "cell_type": "code",
      "execution_count": 46,
      "metadata": {
        "id": "U1ZxlM_NYa85"
      },
      "outputs": [],
      "source": [
        "#Dependent Variable\n",
        "y = df['Response']"
      ]
    },
    {
      "cell_type": "code",
      "execution_count": 47,
      "metadata": {
        "colab": {
          "base_uri": "https://localhost:8080/"
        },
        "id": "ivbu_8WtYewt",
        "outputId": "876ca1fd-f74d-4e46-d8fe-16ba72d301d2"
      },
      "outputs": [
        {
          "output_type": "execute_result",
          "data": {
            "text/plain": [
              "(381109,)"
            ]
          },
          "metadata": {},
          "execution_count": 47
        }
      ],
      "source": [
        "y.shape"
      ]
    },
    {
      "cell_type": "markdown",
      "metadata": {
        "id": "TsdSIbjGUXu2"
      },
      "source": [
        "#Feature Selection"
      ]
    },
    {
      "cell_type": "code",
      "execution_count": 48,
      "metadata": {
        "colab": {
          "base_uri": "https://localhost:8080/",
          "height": 524
        },
        "id": "R79bUCDqL68G",
        "outputId": "8d607ff5-3354-4d70-8164-25879f214ca5"
      },
      "outputs": [
        {
          "output_type": "stream",
          "name": "stdout",
          "text": [
            "[0.23656475 0.02002794 0.10468907 0.00034601 0.08062367 0.01205267\n",
            " 0.00876375 0.12559904 0.17768202 0.038616   0.19503509]\n"
          ]
        },
        {
          "output_type": "display_data",
          "data": {
            "image/png": "[encoded data removed]",
            "text/plain": [
              "<Figure size 720x432 with 1 Axes>"
            ]
          },
          "metadata": {
            "needs_background": "light"
          }
        }
      ],
      "source": [
        "#Importing Decision Tree Classifier\n",
        "from sklearn.tree import DecisionTreeClassifier\n",
        "tree = DecisionTreeClassifier()\n",
        "tree.fit(X, y)\n",
        "print(tree.feature_importances_)\n",
        "\n",
        "#Plotting a graph showing feature importance\n",
        "importances = tree.feature_importances_\n",
        "indices = np.argsort(importances)[::-1]\n",
        "names = [X.columns[i] for i in indices]\n",
        "# Create plot\n",
        "plt.figure(figsize=(10,6))\n",
        "\n",
        "# Create title\n",
        "plt.title(\"Feature Importance\")\n",
        "\n",
        "# Add bars\n",
        "plt.bar(range(X.shape[1]), importances[indices])\n",
        "\n",
        "# Add feature names as x-axis labels\n",
        "plt.xticks(range(X.shape[1]), names, rotation=90)\n",
        "\n",
        "# Show plot\n",
        "plt.show()"
      ]
    },
    {
      "cell_type": "markdown",
      "metadata": {
        "id": "2-RcFWXmOy6e"
      },
      "source": [
        "\n",
        "\n",
        "*   The most important features from the dataset are id, vintage, annual premium followed by age and region code.\n",
        "\n",
        "\n",
        "\n",
        "*   As we can see the less important feature is Driving License. So We have to drop the column Driving License.\n",
        "\n",
        "\n",
        "*   'id' variable is not important to predict target variable so we can drop it.\n",
        "\n",
        "\n",
        "\n",
        "\n"
      ]
    },
    {
      "cell_type": "code",
      "execution_count": 49,
      "metadata": {
        "id": "KMBEv3XzRWX4"
      },
      "outputs": [],
      "source": [
        "#Dropping column Driving License\n",
        "X = X.drop(['Driving_License'],axis=1)\n",
        "X = X.drop(['id'], axis=1)"
      ]
    },
    {
      "cell_type": "markdown",
      "metadata": {
        "id": "NdkAnO_4Yu9A"
      },
      "source": [
        "#Handling Imbalanced data"
      ]
    },
    {
      "cell_type": "markdown",
      "metadata": {
        "id": "paFVgtjkY_z2"
      },
      "source": [
        "As from the distribution of target variables in the EDA section, we knew it was an imbalance problem.  \n",
        "So to handle such a problem, we could resample the data. For this problem we used Random Oversampling."
      ]
    },
    {
      "cell_type": "code",
      "execution_count": 50,
      "metadata": {
        "colab": {
          "base_uri": "https://localhost:8080/",
          "height": 338
        },
        "id": "U971RmAiZIvh",
        "outputId": "088506d3-dea9-421e-8652-f71d019de708"
      },
      "outputs": [
        {
          "output_type": "stream",
          "name": "stdout",
          "text": [
            "Original dataset shape: 381109\n",
            "Resampled dataset shape 668798\n"
          ]
        },
        {
          "output_type": "execute_result",
          "data": {
            "text/plain": [
              "<matplotlib.axes._subplots.AxesSubplot at 0x7f3aaa9d58d0>"
            ]
          },
          "metadata": {},
          "execution_count": 50
        },
        {
          "output_type": "display_data",
          "data": {
            "image/png": "[encoded data removed]",
            "text/plain": [
              "<Figure size 432x288 with 1 Axes>"
            ]
          },
          "metadata": {
            "needs_background": "light"
          }
        }
      ],
      "source": [
        "#Importing Random over Sampler\n",
        "from imblearn.over_sampling import RandomOverSampler\n",
        "\n",
        "ros = RandomOverSampler(random_state=42)\n",
        "x_ros, y_ros = ros.fit_resample(df.iloc[:,0:-1], df['Response'])\n",
        "\n",
        "print('Original dataset shape:', len(df))\n",
        "print('Resampled dataset shape', len(y_ros))\n",
        "sns.countplot(y_ros,palette='viridis')"
      ]
    },
    {
      "cell_type": "markdown",
      "metadata": {
        "id": "pj6STq3CZPFE"
      },
      "source": [
        "#Feature Scaling"
      ]
    },
    {
      "cell_type": "markdown",
      "metadata": {
        "id": "f8a5XLTAZX60"
      },
      "source": [
        "Our main motive through this step was to scale our data into a uniform format that would allow us to utilize the data in a better way while performing fitting and applying different algorithms to it. "
      ]
    },
    {
      "cell_type": "code",
      "execution_count": 51,
      "metadata": {
        "id": "IOH6Tls0ZOMf"
      },
      "outputs": [],
      "source": [
        "#feature scaling\n",
        "from sklearn.preprocessing import StandardScaler\n",
        "scaler=StandardScaler()\n",
        "x_ros = scaler.fit_transform(x_ros)"
      ]
    },
    {
      "cell_type": "markdown",
      "metadata": {
        "id": "37J0UBKHGCzJ"
      },
      "source": [
        "#Spliting of data into train and test"
      ]
    },
    {
      "cell_type": "code",
      "execution_count": 52,
      "metadata": {
        "id": "wqErq0nRGH_Z"
      },
      "outputs": [],
      "source": [
        "#Dividing the dataset into training and testing\n",
        "from sklearn.model_selection import train_test_split \n",
        "X_train, X_test, y_train, y_test = train_test_split( x_ros, y_ros , test_size = 0.3, random_state = 0) "
      ]
    },
    {
      "cell_type": "markdown",
      "metadata": {
        "id": "inRgb3VkzvK3"
      },
      "source": [
        "#**Model** **Implementation**"
      ]
    },
    {
      "cell_type": "markdown",
      "metadata": {
        "id": "Ro9gmausz3b8"
      },
      "source": [
        "#**1. Logistic Regression**"
      ]
    },
    {
      "cell_type": "code",
      "execution_count": 53,
      "metadata": {
        "colab": {
          "base_uri": "https://localhost:8080/",
          "height": 539
        },
        "id": "__OMwh8o0Tv0",
        "outputId": "26e5fe10-9c94-469c-95d3-e05be64741b2"
      },
      "outputs": [
        {
          "output_type": "stream",
          "name": "stdout",
          "text": [
            "Train Accuracy of LR model is :  0.7844958326035227\n",
            "Test Accuracy of LR model is :  0.7839214513556619\n",
            "ROC_AUC Score of LR model is : 0.8333495928566582\n",
            "              precision    recall  f1-score   support\n",
            "\n",
            "           0       0.59      0.96      0.73     61696\n",
            "           1       0.98      0.70      0.82    138944\n",
            "\n",
            "    accuracy                           0.78    200640\n",
            "   macro avg       0.78      0.83      0.78    200640\n",
            "weighted avg       0.86      0.78      0.79    200640\n",
            "\n",
            "Confusion matrix of LR model is : [[59335 40993]\n",
            " [ 2361 97951]]\n"
          ]
        },
        {
          "output_type": "execute_result",
          "data": {
            "text/plain": [
              "<matplotlib.axes._subplots.AxesSubplot at 0x7f3aaa954410>"
            ]
          },
          "metadata": {},
          "execution_count": 53
        },
        {
          "output_type": "display_data",
          "data": {
            "image/png": "[encoded data removed]",
            "text/plain": [
              "<Figure size 432x288 with 2 Axes>"
            ]
          },
          "metadata": {
            "needs_background": "light"
          }
        }
      ],
      "source": [
        "#Importing Logistic Regression\n",
        "from sklearn.linear_model import LogisticRegression\n",
        "\n",
        "#Fitting the model\n",
        "lr = LogisticRegression()\n",
        "lr.fit(X_train,y_train)\n",
        "\n",
        "#Prediction on test data\n",
        "y_pred1 = lr.predict(X_test)\n",
        "\n",
        "#Prediction on train data\n",
        "y_pred_train1 = lr.predict(X_train)\n",
        "\n",
        "#Model Evaluation\n",
        "#Print accuracy and Roc auc values of lr model\n",
        "print(\"Train Accuracy of LR model is : \", accuracy_score(y_train,y_pred_train1))\n",
        "print(\"Test Accuracy of LR model is : \", accuracy_score(y_test,y_pred1))\n",
        "print(\"ROC_AUC Score of LR model is :\",roc_auc_score(y_pred1,y_test))\n",
        "print(classification_report(y_pred1,y_test)) \n",
        "\n",
        "#Confusion matrix\n",
        "con_mat = confusion_matrix(y_test, y_pred1)\n",
        "print(\"Confusion matrix of LR model is :\", confusion_matrix(y_test, y_pred1))\n",
        "sns.heatmap(con_mat,annot=True)"
      ]
    },
    {
      "cell_type": "code",
      "execution_count": 54,
      "metadata": {
        "colab": {
          "base_uri": "https://localhost:8080/",
          "height": 313
        },
        "id": "_Je_EYMo0Z0u",
        "outputId": "df2c2496-c818-4161-9663-0b25a68d65b6"
      },
      "outputs": [
        {
          "output_type": "display_data",
          "data": {
            "image/png": "[encoded data removed]",
            "text/plain": [
              "<Figure size 432x288 with 1 Axes>"
            ]
          },
          "metadata": {
            "needs_background": "light"
          }
        },
        {
          "output_type": "stream",
          "name": "stdout",
          "text": [
            "Area under curve (AUC):  0.8200256278673832\n"
          ]
        }
      ],
      "source": [
        "#Plotting ROC Curve\n",
        "lr_score = lr.predict_proba(X_test)[:,1]\n",
        "fpr, tpr, _ = roc_curve(y_test, lr_score)\n",
        "\n",
        "plt.title('Logistic Regression ROC curve')\n",
        "plt.xlabel('FPR (Precision)')\n",
        "plt.ylabel('TPR (Recall)')\n",
        "\n",
        "plt.plot(fpr,tpr)\n",
        "plt.plot((0,1), ls='dashed',color='black')\n",
        "plt.show()\n",
        "print('Area under curve (AUC): ', auc(fpr,tpr))"
      ]
    },
    {
      "cell_type": "markdown",
      "metadata": {
        "id": "mcQT5-h80kJW"
      },
      "source": [
        "#**2. Random Forest Classifier**"
      ]
    },
    {
      "cell_type": "code",
      "execution_count": 55,
      "metadata": {
        "colab": {
          "base_uri": "https://localhost:8080/",
          "height": 542
        },
        "id": "r3ADnKB30gve",
        "outputId": "b01857d4-0e4e-4950-978b-b63d8b8a817a"
      },
      "outputs": [
        {
          "output_type": "stream",
          "name": "stdout",
          "text": [
            "Train Accuracy of RF model is :  1.0\n",
            "Test Accuracy of RF model is :  0.9450857256778309\n",
            "ROC_AUC Score of Rf model is : 0.9499478511584459\n",
            "              precision    recall  f1-score   support\n",
            "\n",
            "           0       0.89      1.00      0.94     89896\n",
            "           1       1.00      0.90      0.95    110744\n",
            "\n",
            "    accuracy                           0.95    200640\n",
            "   macro avg       0.95      0.95      0.94    200640\n",
            "weighted avg       0.95      0.95      0.95    200640\n",
            "\n",
            "Confusion matrix of RF model is : [[ 89603  10725]\n",
            " [   293 100019]]\n"
          ]
        },
        {
          "output_type": "execute_result",
          "data": {
            "text/plain": [
              "<matplotlib.axes._subplots.AxesSubplot at 0x7f3aaa871fd0>"
            ]
          },
          "metadata": {},
          "execution_count": 55
        },
        {
          "output_type": "display_data",
          "data": {
            "image/png": "[encoded data removed]",
            "text/plain": [
              "<Figure size 432x288 with 2 Axes>"
            ]
          },
          "metadata": {
            "needs_background": "light"
          }
        }
      ],
      "source": [
        "#Importing Random Forest Classifier\n",
        "from sklearn.ensemble import RandomForestClassifier\n",
        "\n",
        "#Fitting the model\n",
        "rf = RandomForestClassifier()\n",
        "rf.fit(X_train,y_train)\n",
        "\n",
        "#Prediction on test data\n",
        "y_pred2 = rf.predict(X_test)\n",
        "\n",
        "#Prediction on train data\n",
        "y_pred_train2 = rf.predict(X_train)\n",
        "\n",
        "#Model Evaluation\n",
        "#Print accuracy and Roc auc values of RF model\n",
        "print(\"Train Accuracy of RF model is : \", accuracy_score(y_train,y_pred_train2))\n",
        "print(\"Test Accuracy of RF model is : \", accuracy_score(y_test,y_pred2))\n",
        "print(\"ROC_AUC Score of Rf model is :\",roc_auc_score(y_pred2,y_test))\n",
        "print(classification_report(y_pred2,y_test))\n",
        "\n",
        "#Confusion matrix\n",
        "con_mat = confusion_matrix(y_test, y_pred2)\n",
        "print(\"Confusion matrix of RF model is :\", confusion_matrix(y_test, y_pred2))\n",
        "sns.heatmap(con_mat,annot=True)"
      ]
    },
    {
      "cell_type": "code",
      "execution_count": 56,
      "metadata": {
        "colab": {
          "base_uri": "https://localhost:8080/",
          "height": 313
        },
        "id": "MqsX7ofb0sIn",
        "outputId": "401e6149-073b-4b3b-ee14-2beeb334d496"
      },
      "outputs": [
        {
          "output_type": "display_data",
          "data": {
            "image/png": "[encoded data removed]",
            "text/plain": [
              "<Figure size 432x288 with 1 Axes>"
            ]
          },
          "metadata": {
            "needs_background": "light"
          }
        },
        {
          "output_type": "stream",
          "name": "stdout",
          "text": [
            "Area under curve (AUC):  0.9989441883989999\n"
          ]
        }
      ],
      "source": [
        "#Plotting ROC Curve\n",
        "rf_score = rf.predict_proba(X_test)[:,1]\n",
        "fpr, tpr, _ = roc_curve(y_test, rf_score)\n",
        "\n",
        "plt.title('Random Forest ROC curve')\n",
        "plt.xlabel('FPR (Precision)')\n",
        "plt.ylabel('TPR (Recall)')\n",
        "\n",
        "plt.plot(fpr,tpr)\n",
        "plt.plot((0,1), ls='dashed',color='black')\n",
        "plt.show()\n",
        "print('Area under curve (AUC): ', auc(fpr,tpr))"
      ]
    },
    {
      "cell_type": "markdown",
      "metadata": {
        "id": "FnIbSCV60wgT"
      },
      "source": [
        "#**3. XGBoost Classifier**"
      ]
    },
    {
      "cell_type": "code",
      "execution_count": 57,
      "metadata": {
        "colab": {
          "base_uri": "https://localhost:8080/",
          "height": 539
        },
        "id": "BSs4LgYJ03lW",
        "outputId": "595604ac-3c6b-49c1-d9d8-b386695e38a1"
      },
      "outputs": [
        {
          "output_type": "stream",
          "name": "stdout",
          "text": [
            "Train Accuracy of XGB model is :  0.7982903207891353\n",
            "Test Accuracy of XGB model is :  0.7977671451355662\n",
            "ROC_AUC Score of XGB model is : 0.8210989754705407\n",
            "              precision    recall  f1-score   support\n",
            "\n",
            "           0       0.66      0.91      0.77     73284\n",
            "           1       0.93      0.73      0.82    127356\n",
            "\n",
            "    accuracy                           0.80    200640\n",
            "   macro avg       0.80      0.82      0.79    200640\n",
            "weighted avg       0.83      0.80      0.80    200640\n",
            "\n",
            "Confusion matrix of XGB model is : [[66518 33810]\n",
            " [ 6766 93546]]\n"
          ]
        },
        {
          "output_type": "execute_result",
          "data": {
            "text/plain": [
              "<matplotlib.axes._subplots.AxesSubplot at 0x7f3aaa781d50>"
            ]
          },
          "metadata": {},
          "execution_count": 57
        },
        {
          "output_type": "display_data",
          "data": {
            "image/png": "[encoded data removed]",
            "text/plain": [
              "<Figure size 432x288 with 2 Axes>"
            ]
          },
          "metadata": {
            "needs_background": "light"
          }
        }
      ],
      "source": [
        "#Importing XGB classifier\n",
        "from xgboost import XGBClassifier\n",
        "\n",
        "#Fitting the model\n",
        "xgb=XGBClassifier()\n",
        "xgb.fit(X_train, y_train)\n",
        "\n",
        "#Prediction on test data\n",
        "y_pred3 = xgb.predict(X_test)\n",
        "\n",
        "#Prediction on train data\n",
        "y_pred_train3 = xgb.predict(X_train)\n",
        "\n",
        "#Model Evaluation\n",
        "#Print accuracy and Roc auc values of XGB model\n",
        "print(\"Train Accuracy of XGB model is : \", accuracy_score(y_train,y_pred_train3))\n",
        "print(\"Test Accuracy of XGB model is : \", accuracy_score(y_test,y_pred3))\n",
        "print(\"ROC_AUC Score of XGB model is :\",roc_auc_score(y_pred3,y_test))\n",
        "print(classification_report(y_pred3,y_test))\n",
        "\n",
        "#Confusion matrix \n",
        "con_mat = confusion_matrix(y_test, y_pred3)\n",
        "print(\"Confusion matrix of XGB model is :\", confusion_matrix(y_test,y_pred3))\n",
        "sns.heatmap(con_mat,annot=True)"
      ]
    },
    {
      "cell_type": "code",
      "execution_count": 58,
      "metadata": {
        "colab": {
          "base_uri": "https://localhost:8080/",
          "height": 313
        },
        "id": "UQR9O59U07wW",
        "outputId": "7e07262d-8bb9-4f4e-9c7e-8ad3412d5665"
      },
      "outputs": [
        {
          "output_type": "display_data",
          "data": {
            "image/png": "[encoded data removed]",
            "text/plain": [
              "<Figure size 432x288 with 1 Axes>"
            ]
          },
          "metadata": {
            "needs_background": "light"
          }
        },
        {
          "output_type": "stream",
          "name": "stdout",
          "text": [
            "Area under curve (AUC):  0.8555792915776647\n"
          ]
        }
      ],
      "source": [
        "#Plotting ROC Curve\n",
        "xgb_score = xgb.predict_proba(X_test)[:,1]\n",
        "fpr, tpr, _ = roc_curve(y_test, xgb_score)\n",
        "\n",
        "plt.title('XGBoost ROC curve')\n",
        "plt.xlabel('FPR (Precision)')\n",
        "plt.ylabel('TPR (Recall)')\n",
        "\n",
        "plt.plot(fpr,tpr)\n",
        "plt.plot((0,1), ls='dashed',color='black')\n",
        "plt.show()\n",
        "print('Area under curve (AUC): ', auc(fpr,tpr))"
      ]
    },
    {
      "cell_type": "markdown",
      "metadata": {
        "id": "tfyVmISX1C6q"
      },
      "source": [
        "#**4. Naive Baye's Classifier**"
      ]
    },
    {
      "cell_type": "code",
      "execution_count": 59,
      "metadata": {
        "colab": {
          "base_uri": "https://localhost:8080/",
          "height": 539
        },
        "id": "X9ilV_AC1AxL",
        "outputId": "b1d8f857-cf42-4b54-e1ab-e6c0a31521c1"
      },
      "outputs": [
        {
          "output_type": "stream",
          "name": "stdout",
          "text": [
            "Train Accuracy of nbc model is :  0.7844958326035227\n",
            "Test Accuracy of nbc model is :  0.7839214513556619\n",
            "ROC_AUC Score of nbc model is : 0.8333495928566582\n",
            "              precision    recall  f1-score   support\n",
            "\n",
            "           0       0.59      0.96      0.73     61696\n",
            "           1       0.98      0.70      0.82    138944\n",
            "\n",
            "    accuracy                           0.78    200640\n",
            "   macro avg       0.78      0.83      0.78    200640\n",
            "weighted avg       0.86      0.78      0.79    200640\n",
            "\n",
            "Confusion matrix of nbc model is : [[59335 40993]\n",
            " [ 2361 97951]]\n"
          ]
        },
        {
          "output_type": "execute_result",
          "data": {
            "text/plain": [
              "<matplotlib.axes._subplots.AxesSubplot at 0x7f3aaa614b50>"
            ]
          },
          "metadata": {},
          "execution_count": 59
        },
        {
          "output_type": "display_data",
          "data": {
            "image/png": "[encoded data removed]",
            "text/plain": [
              "<Figure size 432x288 with 2 Axes>"
            ]
          },
          "metadata": {
            "needs_background": "light"
          }
        }
      ],
      "source": [
        "#Importing Naive Baye's Classifier\n",
        "from sklearn.naive_bayes import GaussianNB\n",
        "\n",
        "#Fitting the model\n",
        "nbc = GaussianNB()\n",
        "nbc.fit(X_train, y_train)\n",
        "\n",
        "#Prediction on test data\n",
        "y_pred4 = nbc.predict(X_test)\n",
        "\n",
        "#Prediction on train data\n",
        "y_pred_train4 = nbc.predict(X_train)\n",
        "\n",
        "#Model Evaluation\n",
        "#Print accuracy and Roc auc values of NBC model\n",
        "print(\"Train Accuracy of nbc model is : \", accuracy_score(y_train,y_pred_train4))\n",
        "print(\"Test Accuracy of nbc model is : \", accuracy_score(y_test,y_pred4))\n",
        "print(\"ROC_AUC Score of nbc model is :\",roc_auc_score(y_pred4,y_test))\n",
        "print(classification_report(y_pred4 ,y_test))\n",
        "\n",
        "#Confusion matrix\n",
        "con_mat = confusion_matrix(y_test, y_pred4)\n",
        "print(\"Confusion matrix of nbc model is :\", confusion_matrix(y_test,y_pred4))\n",
        "sns.heatmap(con_mat,annot=True)"
      ]
    },
    {
      "cell_type": "code",
      "execution_count": 60,
      "metadata": {
        "colab": {
          "base_uri": "https://localhost:8080/",
          "height": 313
        },
        "id": "HSPL5sy41NcL",
        "outputId": "a666b4ce-df10-47dc-97b8-836e19d0e265"
      },
      "outputs": [
        {
          "output_type": "display_data",
          "data": {
            "image/png": "[encoded data removed]",
            "text/plain": [
              "<Figure size 432x288 with 1 Axes>"
            ]
          },
          "metadata": {
            "needs_background": "light"
          }
        },
        {
          "output_type": "stream",
          "name": "stdout",
          "text": [
            "Area under curve (AUC):  0.8239761411543738\n"
          ]
        }
      ],
      "source": [
        "#Plotting ROC Curve\n",
        "nbc_score = nbc.predict_proba(X_test)[:,1]\n",
        "fpr, tpr, _ = roc_curve(y_test, nbc_score)\n",
        "\n",
        "plt.title('nbc ROC curve')\n",
        "plt.xlabel('FPR (Precision)')\n",
        "plt.ylabel('TPR (Recall)')\n",
        "\n",
        "plt.plot(fpr,tpr)\n",
        "plt.plot((0,1), ls='dashed',color='black')\n",
        "plt.show()\n",
        "print('Area under curve (AUC): ', auc(fpr,tpr))"
      ]
    },
    {
      "cell_type": "markdown",
      "metadata": {
        "id": "4f7x9kqP1epG"
      },
      "source": [
        "# **Conclusion**:\n",
        "\n",
        "\n",
        "*   Random Forest classifier has given better result as compared to other algorithms that I have tried.\n",
        "\n",
        "\n",
        "\n",
        "\n",
        "\n",
        "\n",
        "i.e.\n",
        "\n",
        "\n",
        "*   Accuracy - 0.94\n",
        "\n",
        "*   Precision - 0.90\n",
        "\n",
        "*   Recall - 0.99\n",
        "\n",
        "\n",
        "*   f1 score - 0.94\n",
        "\n",
        "\n",
        "*   AUC - 0.99\n",
        "\n",
        "\n",
        "\n"
      ]
    },
    {
      "cell_type": "markdown",
      "metadata": {
        "id": "z-MJrSvCCq2_"
      },
      "source": [
        "#**Hyperparameter Tuning**"
      ]
    },
    {
      "cell_type": "code",
      "execution_count": 61,
      "metadata": {
        "id": "MlKYs0b5Vfxb"
      },
      "outputs": [],
      "source": [
        "#Importing RandomSearchCV\n",
        "from sklearn.model_selection import RandomizedSearchCV\n",
        "\n",
        "#Create the parameter grid based on the results of random search\n",
        "rf= RandomForestClassifier()\n",
        "\n",
        "parameters = {'max_depth':[50, 100, None],\n",
        "              'max_leaf_nodes':[500,1000, None],\n",
        "             'n_estimators': [50, 100, 200]}\n",
        "             \n",
        "random_search = RandomizedSearchCV(estimator = rf, param_distributions = parameters, n_iter = 10, \n",
        "                               cv = 3, verbose= 1, random_state= 101, n_jobs = -1)"
      ]
    },
    {
      "cell_type": "code",
      "execution_count": 62,
      "metadata": {
        "colab": {
          "base_uri": "https://localhost:8080/"
        },
        "id": "2Cd4NuZEVsKu",
        "outputId": "e0dd04a2-0ec3-4e03-86e3-c8d9ba99b34a"
      },
      "outputs": [
        {
          "output_type": "stream",
          "name": "stdout",
          "text": [
            "Fitting 3 folds for each of 10 candidates, totalling 30 fits\n"
          ]
        },
        {
          "output_type": "execute_result",
          "data": {
            "text/plain": [
              "{'max_depth': None, 'max_leaf_nodes': None, 'n_estimators': 50}"
            ]
          },
          "metadata": {},
          "execution_count": 62
        }
      ],
      "source": [
        "#Fit the random search to the data\n",
        "random_search.fit(X_train, y_train)\n",
        "random_search.best_params_"
      ]
    },
    {
      "cell_type": "code",
      "execution_count": 63,
      "metadata": {
        "colab": {
          "base_uri": "https://localhost:8080/"
        },
        "id": "LY7wVd32N7Db",
        "outputId": "d0b083c0-1e70-4222-c3a2-83a39958e833"
      },
      "outputs": [
        {
          "output_type": "execute_result",
          "data": {
            "text/plain": [
              "RandomForestClassifier(n_estimators=50)"
            ]
          },
          "metadata": {},
          "execution_count": 63
        }
      ],
      "source": [
        "best_random = random_search.best_estimator_\n",
        "best_random.fit(X_train, y_train)"
      ]
    },
    {
      "cell_type": "code",
      "execution_count": 64,
      "metadata": {
        "colab": {
          "base_uri": "https://localhost:8080/",
          "height": 539
        },
        "id": "cLRcRKJpVwmR",
        "outputId": "c5998c43-ccc8-4154-bac1-91f089340e70"
      },
      "outputs": [
        {
          "output_type": "stream",
          "name": "stdout",
          "text": [
            "Train Accuracy of model is :  0.9999935919070058\n",
            "Test Accuracy of model is :  0.9464214513556619\n",
            "ROC_AUC Score of model is : 0.9509949509811775\n",
            "              precision    recall  f1-score   support\n",
            "\n",
            "           0       0.90      1.00      0.94     90222\n",
            "           1       1.00      0.91      0.95    110418\n",
            "\n",
            "    accuracy                           0.95    200640\n",
            "   macro avg       0.95      0.95      0.95    200640\n",
            "weighted avg       0.95      0.95      0.95    200640\n",
            "\n",
            "Confusion matrix of model is : [[89900 10428]\n",
            " [  322 99990]]\n"
          ]
        },
        {
          "output_type": "execute_result",
          "data": {
            "text/plain": [
              "<matplotlib.axes._subplots.AxesSubplot at 0x7f3aaa7f33d0>"
            ]
          },
          "metadata": {},
          "execution_count": 64
        },
        {
          "output_type": "display_data",
          "data": {
            "image/png": "[encoded data removed]",
            "text/plain": [
              "<Figure size 432x288 with 2 Axes>"
            ]
          },
          "metadata": {
            "needs_background": "light"
          }
        }
      ],
      "source": [
        "#Prediction on test data\n",
        "y_pred5 = best_random.predict(X_test)\n",
        "\n",
        "#Prediction on train data\n",
        "y_pred_train5 = best_random.predict(X_train)\n",
        "\n",
        "#Model Evaluation\n",
        "#Print accuracy and Roc auc values of NBC model\n",
        "print(\"Train Accuracy of model is : \", accuracy_score(y_train,y_pred_train5))\n",
        "print(\"Test Accuracy of model is : \", accuracy_score(y_test,y_pred5))\n",
        "print(\"ROC_AUC Score of model is :\",roc_auc_score(y_pred5,y_test))\n",
        "print(classification_report(y_pred5 ,y_test))\n",
        "\n",
        "#Confusion matrix\n",
        "con_mat = confusion_matrix(y_test, y_pred5)\n",
        "print(\"Confusion matrix of model is :\", confusion_matrix(y_test,y_pred5))\n",
        "sns.heatmap(con_mat,annot=True)"
      ]
    },
    {
      "cell_type": "code",
      "execution_count": 65,
      "metadata": {
        "colab": {
          "base_uri": "https://localhost:8080/",
          "height": 313
        },
        "id": "rFkNKBhXV1dS",
        "outputId": "694e4341-b903-42fb-dd90-0ef7ce85dc06"
      },
      "outputs": [
        {
          "output_type": "display_data",
          "data": {
            "image/png": "[encoded data removed]",
            "text/plain": [
              "<Figure size 432x288 with 1 Axes>"
            ]
          },
          "metadata": {
            "needs_background": "light"
          }
        },
        {
          "output_type": "stream",
          "name": "stdout",
          "text": [
            "Area under curve (AUC):  0.9987860406629314\n"
          ]
        }
      ],
      "source": [
        "#Plotting ROC Curve\n",
        "rfg_score = best_random.predict_proba(X_test)[:,1]\n",
        "fpr, tpr, _ = roc_curve(y_test, rfg_score)\n",
        "\n",
        "plt.title('rf random searchCV ROC curve')\n",
        "plt.xlabel('FPR (Precision)')\n",
        "plt.ylabel('TPR (Recall)')\n",
        "\n",
        "plt.plot(fpr,tpr)\n",
        "plt.plot((0,1), ls='dashed',color='black')\n",
        "plt.show()\n",
        "print('Area under curve (AUC): ', auc(fpr,tpr))"
      ]
    },
    {
      "cell_type": "markdown",
      "metadata": {
        "id": "X_C77zLyZMES"
      },
      "source": [
        "Conclusion:\n",
        "\n",
        "After Hyperparameter tuning on Random Forest model using Random SearchCV we can see the slight change in the accuracy i. e.\n",
        "\n",
        "\n",
        "\n",
        "\n",
        "*   Accuracy is increased from 0.9450 to 0.9464\n",
        "\n",
        "*   Precision is increased from 0.9031 to 0.9055\n",
        "\n",
        "*   Recall is increased from 0.9967 to 0.9970\n",
        "\n",
        "\n",
        "*   F1-Score is increased from 0.9477 to 0.9489\n",
        "\n",
        "\n",
        "\n",
        "\n",
        "\n",
        "This results can said to be good for this dataset."
      ]
    }
  ],
  "metadata": {
    "colab": {
      "collapsed_sections": [
        "697I_8Y7h9qm"
      ],
      "name": "HEALTH INSURANCE CROSS SELL PREDICTION",
      "provenance": [],
      "include_colab_link": true
    },
    "kernelspec": {
      "display_name": "Python 3",
      "name": "python3"
    },
    "language_info": {
      "name": "python"
    }
  },
  "nbformat": 4,
  "nbformat_minor": 0
}